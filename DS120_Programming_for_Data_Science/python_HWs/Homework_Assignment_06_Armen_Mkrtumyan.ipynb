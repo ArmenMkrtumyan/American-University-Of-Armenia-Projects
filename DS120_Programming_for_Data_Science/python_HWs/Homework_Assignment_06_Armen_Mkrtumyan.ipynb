{
 "cells": [
  {
   "cell_type": "markdown",
   "id": "38bc4a11",
   "metadata": {},
   "source": [
    "### Your name - Armen Mkrtumyan"
   ]
  },
  {
   "cell_type": "markdown",
   "id": "d0aa39cd",
   "metadata": {},
   "source": [
    "### 0. (1 point) Import matplotlib and seaborn libraries and others you may need. "
   ]
  },
  {
   "cell_type": "code",
   "execution_count": 204,
   "id": "0bb04665",
   "metadata": {},
   "outputs": [],
   "source": [
    "import matplotlib.pyplot as plt\n",
    "import seaborn as sns"
   ]
  },
  {
   "cell_type": "markdown",
   "id": "3cd03639",
   "metadata": {},
   "source": [
    "### 1. (30 points)\n",
    "### a. Import \"titanic\" dataset from seaborn.\n",
    "### b. Get how many female and male people are in the dataset. \n",
    "### c. Plot a histogram of the column *fare* (using matplotlib). Explain what you see. Then, on another plot, make the number of bins of the histogram to 100 and zoom in to [0, 100] interval of x. Do not forget to put titles and labels for the axes. \n",
    "### d. Check whether the *survived* column is equal to *alive* column, that is to say whether two of them represent the same thing. *survived* column is {0, 1} and *alive* column is {\"no\", \"yes\"}. You can convert one of the columns to the other's format using *apply* function and then check the equality. \n",
    "### e. Using seaborn library, constract *class* - *fair* barplot, where you can see what were the mean fares for each class. \n",
    "### f. There are NAN values in the dataset. Using *info* function, see which columns have NAN values and report. One of such columns is *age*. Compute what is the mean of age and replace all the NA values of age column by this mean value."
   ]
  },
  {
   "cell_type": "markdown",
   "id": "31676002",
   "metadata": {},
   "source": [
    "# a"
   ]
  },
  {
   "cell_type": "code",
   "execution_count": 237,
   "id": "9da1737e",
   "metadata": {},
   "outputs": [],
   "source": [
    "titanic = sns.load_dataset('titanic')"
   ]
  },
  {
   "cell_type": "markdown",
   "id": "919e2559",
   "metadata": {},
   "source": [
    "# b"
   ]
  },
  {
   "cell_type": "code",
   "execution_count": 238,
   "id": "74455ee2",
   "metadata": {},
   "outputs": [
    {
     "name": "stdout",
     "output_type": "stream",
     "text": [
      "577 males\n",
      "314 females\n"
     ]
    }
   ],
   "source": [
    "print(str(titanic['sex'][titanic[\"sex\"] == 'male'].count()) + \" males\")\n",
    "print(str(titanic['sex'][titanic[\"sex\"] == 'female'].count()) + \" females\")"
   ]
  },
  {
   "cell_type": "markdown",
   "id": "315e451f",
   "metadata": {},
   "source": [
    "# c"
   ]
  },
  {
   "cell_type": "code",
   "execution_count": 241,
   "id": "80547f98",
   "metadata": {
    "scrolled": true
   },
   "outputs": [
    {
     "data": {
      "image/png": "[encoded data removed]",
      "text/plain": [
       "<Figure size 432x288 with 1 Axes>"
      ]
     },
     "metadata": {
      "needs_background": "light"
     },
     "output_type": "display_data"
    }
   ],
   "source": [
    "import numpy as np\n",
    "plt.hist(titanic['fare']) #on x axis we see the fare and on y axis we see the number of people \n",
    "                          #we can deduct from the graph that as the fare price gets cheaper, the number \n",
    "                          #of people who bought it gets larger\n",
    "plt.xlabel('fare')\n",
    "plt.ylabel('number of people')\n",
    "plt.title('Fare that people payed')\n",
    "plt.show()"
   ]
  },
  {
   "cell_type": "code",
   "execution_count": 242,
   "id": "c3bbad94",
   "metadata": {},
   "outputs": [
    {
     "data": {
      "image/png": "[encoded data removed]",
      "text/plain": [
       "<Figure size 432x288 with 1 Axes>"
      ]
     },
     "metadata": {
      "needs_background": "light"
     },
     "output_type": "display_data"
    }
   ],
   "source": [
    "import numpy as np\n",
    "plt.hist(titanic['fare'], bins=100, range=(0,100))\n",
    "plt.xlabel('fare')\n",
    "plt.ylabel('number of people')\n",
    "plt.title('Fare that people payed')\n",
    "plt.show()"
   ]
  },
  {
   "cell_type": "markdown",
   "id": "a5c4309f",
   "metadata": {},
   "source": [
    "# d"
   ]
  },
  {
   "cell_type": "code",
   "execution_count": 243,
   "id": "9bf08589",
   "metadata": {},
   "outputs": [
    {
     "name": "stdout",
     "output_type": "stream",
     "text": [
      "Columns are the same\n"
     ]
    }
   ],
   "source": [
    "if(titanic['survived'].apply(lambda element: 'no' if element == 0 else 'yes').equals(titanic['alive'])):\n",
    "    print(\"Columns are the same\")\n",
    "else:\n",
    "    print(\"Columns are not the same\")"
   ]
  },
  {
   "cell_type": "markdown",
   "id": "f18ba490",
   "metadata": {},
   "source": [
    "# e"
   ]
  },
  {
   "cell_type": "code",
   "execution_count": 244,
   "id": "8b24f674",
   "metadata": {},
   "outputs": [
    {
     "data": {
      "image/png": "[encoded data removed]",
      "text/plain": [
       "<Figure size 432x288 with 1 Axes>"
      ]
     },
     "metadata": {
      "needs_background": "light"
     },
     "output_type": "display_data"
    }
   ],
   "source": [
    "sns.barplot(data = titanic, x = 'class', y='fare')\n",
    "plt.show()"
   ]
  },
  {
   "cell_type": "markdown",
   "id": "25e692cf",
   "metadata": {},
   "source": [
    "# f"
   ]
  },
  {
   "cell_type": "code",
   "execution_count": 245,
   "id": "d812b667",
   "metadata": {},
   "outputs": [
    {
     "name": "stdout",
     "output_type": "stream",
     "text": [
      "<class 'pandas.core.frame.DataFrame'>\n",
      "RangeIndex: 891 entries, 0 to 890\n",
      "Data columns (total 15 columns):\n",
      " #   Column       Non-Null Count  Dtype   \n",
      "---  ------       --------------  -----   \n",
      " 0   survived     891 non-null    int64   \n",
      " 1   pclass       891 non-null    int64   \n",
      " 2   sex          891 non-null    object  \n",
      " 3   age          714 non-null    float64 \n",
      " 4   sibsp        891 non-null    int64   \n",
      " 5   parch        891 non-null    int64   \n",
      " 6   fare         891 non-null    float64 \n",
      " 7   embarked     889 non-null    object  \n",
      " 8   class        891 non-null    category\n",
      " 9   who          891 non-null    object  \n",
      " 10  adult_male   891 non-null    bool    \n",
      " 11  deck         203 non-null    category\n",
      " 12  embark_town  889 non-null    object  \n",
      " 13  alive        891 non-null    object  \n",
      " 14  alone        891 non-null    bool    \n",
      "dtypes: bool(2), category(2), float64(2), int64(4), object(5)\n",
      "memory usage: 80.7+ KB\n"
     ]
    }
   ],
   "source": [
    "titanic.info() #We can see that age, embarked, deck and embark_town have nan values in them"
   ]
  },
  {
   "cell_type": "code",
   "execution_count": 246,
   "id": "d7d3b7fa",
   "metadata": {},
   "outputs": [
    {
     "name": "stdout",
     "output_type": "stream",
     "text": [
      "<class 'pandas.core.frame.DataFrame'>\n",
      "RangeIndex: 891 entries, 0 to 890\n",
      "Data columns (total 15 columns):\n",
      " #   Column       Non-Null Count  Dtype   \n",
      "---  ------       --------------  -----   \n",
      " 0   survived     891 non-null    int64   \n",
      " 1   pclass       891 non-null    int64   \n",
      " 2   sex          891 non-null    object  \n",
      " 3   age          891 non-null    float64 \n",
      " 4   sibsp        891 non-null    int64   \n",
      " 5   parch        891 non-null    int64   \n",
      " 6   fare         891 non-null    float64 \n",
      " 7   embarked     889 non-null    object  \n",
      " 8   class        891 non-null    category\n",
      " 9   who          891 non-null    object  \n",
      " 10  adult_male   891 non-null    bool    \n",
      " 11  deck         203 non-null    category\n",
      " 12  embark_town  889 non-null    object  \n",
      " 13  alive        891 non-null    object  \n",
      " 14  alone        891 non-null    bool    \n",
      "dtypes: bool(2), category(2), float64(2), int64(4), object(5)\n",
      "memory usage: 80.7+ KB\n"
     ]
    }
   ],
   "source": [
    "mean_value_age = titanic['age'].mean()\n",
    "titanic['age'].replace(np.nan, mean_value_age, inplace=True)\n",
    "titanic.info()"
   ]
  },
  {
   "cell_type": "markdown",
   "id": "f2b8f73f",
   "metadata": {},
   "source": [
    "### 2. (25 points)\n",
    "### a. Restaurant: Make a class called Restaurant. The \\_\\_init\\_\\_() method for Restaurant should store two attributes: a restaurant_name and a cuisine_type. Make a method called describe_restaurant() that prints these two pieces of information, and a method called open_restaurant() that prints a message indicating that the restaurant is open.\n",
    "### b. Make an instance called restaurant from your class. Print the two attributes individually, and then call both methods.\n",
    "### c. Create three different instances from the class, and call describe_restaurant() for each instance."
   ]
  },
  {
   "cell_type": "markdown",
   "id": "f58fb290",
   "metadata": {},
   "source": [
    "# a"
   ]
  },
  {
   "cell_type": "code",
   "execution_count": 269,
   "id": "17b73844",
   "metadata": {},
   "outputs": [],
   "source": [
    "class Restaurant():\n",
    "    def __init__(self, restaurant_name, cuisine_type):\n",
    "        self.name = restaurant_name\n",
    "        self.cuisine = cuisine_type\n",
    "    def describe_restaurant(self):\n",
    "        print(\"This is the restaurant \" + self.name + \" which has a \" + self.cuisine + \" cousine\")\n",
    "    def open_restaurant(self):\n",
    "        print(\"Restaurant \" + self.name + \" is opened\")"
   ]
  },
  {
   "cell_type": "markdown",
   "id": "1d85db4e",
   "metadata": {},
   "source": [
    "# b"
   ]
  },
  {
   "cell_type": "code",
   "execution_count": 270,
   "id": "dadf75b1",
   "metadata": {},
   "outputs": [
    {
     "name": "stdout",
     "output_type": "stream",
     "text": [
      "Hard Rock\n",
      "international\n",
      "This is the restaurant Hard Rock which has a international cousine\n",
      "Restaurant Hard Rock is opened\n"
     ]
    }
   ],
   "source": [
    "restaurant = Restaurant(\"Hard Rock\", \"international\")\n",
    "print(restaurant.name)\n",
    "print(restaurant.cuisine)\n",
    "restaurant.describe_restaurant()\n",
    "restaurant.open_restaurant()"
   ]
  },
  {
   "cell_type": "markdown",
   "id": "d69f74e0",
   "metadata": {},
   "source": [
    "# c"
   ]
  },
  {
   "cell_type": "code",
   "execution_count": 271,
   "id": "31c6ee8a",
   "metadata": {},
   "outputs": [
    {
     "name": "stdout",
     "output_type": "stream",
     "text": [
      "This is the restaurant Chinatown which has a Chinese cousine\n",
      "This is the restaurant Titiz which has a titiz baner cousine\n",
      "This is the restaurant Patrick's Pastry which has a Armenian cousine\n"
     ]
    }
   ],
   "source": [
    "restaurant1 = Restaurant(\"Chinatown\", \"Chinese\")\n",
    "restaurant2 = Restaurant(\"Titiz\", \"titiz baner\")\n",
    "restaurant3 = Restaurant(\"Patrick's Pastry\", \"Armenian\")\n",
    "restaurant1.describe_restaurant()\n",
    "restaurant2.describe_restaurant()\n",
    "restaurant3.describe_restaurant()"
   ]
  },
  {
   "cell_type": "markdown",
   "id": "8bc563ab",
   "metadata": {},
   "source": [
    "### 3. (25 points)\n",
    "### a. Create a Rectangle class. It should have two attributes *height* and *width*. It should have two methods *say_my_height()*, and *say_my_width()*, that would print message \"My height/width is ____\"(corresponding value). In addition, it should have one more method *calculate_area()* that will calculate and both print and return the rectangle's area. \n",
    "### b. Create two instances from Rectangle class. First with width and height of 5 and 3, second with equal height and width values of 5. For each instance also call its methods. "
   ]
  },
  {
   "cell_type": "code",
   "execution_count": 272,
   "id": "da85a0a4",
   "metadata": {},
   "outputs": [],
   "source": [
    "class Rectangle():\n",
    "    def __init__(self, height, width):\n",
    "        self.height = height\n",
    "        self.width = width\n",
    "    def say_my_height(self):\n",
    "        print(\"My height is: \" + str(self.height))\n",
    "    def say_my_width(self):\n",
    "        print(\"My width is: \" + str(self.width))\n",
    "    def calculate_area(self):\n",
    "        area = self.height * self.width\n",
    "        print(\"Area is: \" + str(area))\n",
    "        return (area)"
   ]
  },
  {
   "cell_type": "code",
   "execution_count": 273,
   "id": "fc20a4c1",
   "metadata": {},
   "outputs": [
    {
     "name": "stdout",
     "output_type": "stream",
     "text": [
      "My height is: 5\n",
      "My width is: 3\n",
      "Area is: 15\n",
      "My height is: 5\n",
      "My width is: 5\n",
      "Area is: 25\n",
      "Returned area1 is: 15\n",
      "Returned area2 is: 25\n"
     ]
    }
   ],
   "source": [
    "rect1 = Rectangle(5,3)\n",
    "rect2 = Rectangle(5,5)\n",
    "rect1.say_my_height()\n",
    "rect1.say_my_width()\n",
    "area1 = rect1.calculate_area()\n",
    "rect2.say_my_height()\n",
    "rect2.say_my_width()\n",
    "area2 = rect2.calculate_area()\n",
    "print(\"Returned area1 is: \" + str(area1))\n",
    "print(\"Returned area2 is: \" + str(area2))"
   ]
  },
  {
   "cell_type": "markdown",
   "id": "c3552841",
   "metadata": {},
   "source": [
    "### 4. (19 points) Similarly, think of some class example and implement it. The class should have at least two attributes, and at least one method. Do not forget to make at least one instance from your class and test its method(s)."
   ]
  },
  {
   "cell_type": "code",
   "execution_count": 275,
   "id": "8b31818e",
   "metadata": {},
   "outputs": [],
   "source": [
    "class Student():\n",
    "    '''\n",
    "        A student class which has deadlines and mood parameters, \n",
    "        mood is 'happy' whenever student has 0 deadlines and it is sad otherwise, \n",
    "        Please initialize mood with only happy or sad parameters and deadline at \n",
    "        least greater than or equal to 0 \n",
    "    '''\n",
    "    def __init__(self, deadlines, mood):\n",
    "        if(deadlines != 0 and mood == 'happy'):\n",
    "            print(\"Student can't have \" + str(deadlines) + \" deadlines and still be \" + mood)\n",
    "        else:\n",
    "            self.deadlines = deadlines\n",
    "            self.mood = mood\n",
    "            print(\"Successfully initalized a student\")\n",
    "    def check_deadlines(self):\n",
    "        print(\"The number of deadlines is \" + str(self.deadlines))\n",
    "    def check_mood(self):\n",
    "        print(\"Student is \" + str(self.mood))\n",
    "    def add_deadlines(self, count):\n",
    "        if(self.deadlines + count > 5):\n",
    "            print(\"Student already has \" + str(self.deadlines)\\\n",
    "                  + \" deadlines and can't add \" + str(count) + \" more deadlines, he is \" + self.mood)\n",
    "        else:\n",
    "            print(\"Deadline succesfully taken into account\")\n",
    "            self.mood = \"sad\"\n",
    "            self.deadlines += count\n",
    "\n",
    "    def remove_deadlines(self, count):\n",
    "        if(self.deadlines - count < 0):\n",
    "            print(\"Student did not have that many deadlines to remove\")\n",
    "        else:\n",
    "            self.deadlines -= count\n",
    "            if(self.deadlines == 0):\n",
    "                self.mood = \"happy\"\n",
    "            print(\"Deadline count updated, student is \" + self.mood)"
   ]
  },
  {
   "cell_type": "code",
   "execution_count": 276,
   "id": "21f8f404",
   "metadata": {},
   "outputs": [
    {
     "name": "stdout",
     "output_type": "stream",
     "text": [
      "Student can't have 100 deadlines and still be happy\n"
     ]
    }
   ],
   "source": [
    "aua_student = Student(100, 'happy')"
   ]
  },
  {
   "cell_type": "code",
   "execution_count": 277,
   "id": "9b41795d",
   "metadata": {},
   "outputs": [
    {
     "name": "stdout",
     "output_type": "stream",
     "text": [
      "Successfully initalized a student\n"
     ]
    }
   ],
   "source": [
    "aua_student = Student(100, 'sad')"
   ]
  },
  {
   "cell_type": "code",
   "execution_count": 278,
   "id": "8bcfcb42",
   "metadata": {},
   "outputs": [
    {
     "name": "stdout",
     "output_type": "stream",
     "text": [
      "The number of deadlines is 100\n"
     ]
    }
   ],
   "source": [
    "aua_student.check_deadlines()"
   ]
  },
  {
   "cell_type": "code",
   "execution_count": 279,
   "id": "5052bcf9",
   "metadata": {},
   "outputs": [
    {
     "name": "stdout",
     "output_type": "stream",
     "text": [
      "Student is sad\n"
     ]
    }
   ],
   "source": [
    "aua_student.check_mood()"
   ]
  },
  {
   "cell_type": "code",
   "execution_count": 280,
   "id": "a0bb7ab0",
   "metadata": {},
   "outputs": [
    {
     "name": "stdout",
     "output_type": "stream",
     "text": [
      "Deadline count updated, student is happy\n"
     ]
    }
   ],
   "source": [
    "aua_student.remove_deadlines(100)"
   ]
  },
  {
   "cell_type": "code",
   "execution_count": 281,
   "id": "269d9602",
   "metadata": {},
   "outputs": [
    {
     "name": "stdout",
     "output_type": "stream",
     "text": [
      "Student did not have that many deadlines to remove\n"
     ]
    }
   ],
   "source": [
    "aua_student.remove_deadlines(1)"
   ]
  },
  {
   "cell_type": "code",
   "execution_count": 282,
   "id": "a8e4f6b0",
   "metadata": {},
   "outputs": [
    {
     "name": "stdout",
     "output_type": "stream",
     "text": [
      "Student already has 0 deadlines and can't add 10 more deadlines, he is happy\n"
     ]
    }
   ],
   "source": [
    "aua_student.add_deadlines(10)"
   ]
  },
  {
   "cell_type": "code",
   "execution_count": 202,
   "id": "0d3d36c1",
   "metadata": {},
   "outputs": [
    {
     "name": "stdout",
     "output_type": "stream",
     "text": [
      "Deadline succesfully taken into account\n"
     ]
    }
   ],
   "source": [
    "aua_student.add_deadlines(5)"
   ]
  },
  {
   "cell_type": "code",
   "execution_count": 203,
   "id": "a72d24a6",
   "metadata": {},
   "outputs": [
    {
     "name": "stdout",
     "output_type": "stream",
     "text": [
      "Student is sad\n"
     ]
    }
   ],
   "source": [
    "aua_student.check_mood()"
   ]
  }
 ],
 "metadata": {
  "kernelspec": {
   "display_name": "Python 3 (ipykernel)",
   "language": "python",
   "name": "python3"
  },
  "language_info": {
   "codemirror_mode": {
    "name": "ipython",
    "version": 3
   },
   "file_extension": ".py",
   "mimetype": "text/x-python",
   "name": "python",
   "nbconvert_exporter": "python",
   "pygments_lexer": "ipython3",
   "version": "3.9.12"
  }
 },
 "nbformat": 4,
 "nbformat_minor": 5
}
