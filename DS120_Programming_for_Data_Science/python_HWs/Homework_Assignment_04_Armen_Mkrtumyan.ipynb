{
 "cells": [
  {
   "cell_type": "markdown",
   "id": "148ed732",
   "metadata": {},
   "source": [
    "## Your name - Armen Mkrtumyan"
   ]
  },
  {
   "cell_type": "markdown",
   "id": "6513b1fc",
   "metadata": {},
   "source": [
    "### Exercise 0 (1 point) - Import the numpy package. "
   ]
  },
  {
   "cell_type": "code",
   "execution_count": 1,
   "id": "f10b28d1",
   "metadata": {},
   "outputs": [],
   "source": [
    "import numpy as np"
   ]
  },
  {
   "cell_type": "markdown",
   "id": "90068d36",
   "metadata": {},
   "source": [
    "### Exercise 1 (9 points) \n",
    "### a. Create a 3x3 matrix with consecutive values ranging from 0 to 8 (i.e. 0, 1, 2, 3, 4, 5, 6, 7, 8) filled in the matrix row by row. \n",
    "### b. Create a 3x3x3 array filled with random integer values from 10 to 20 both inclusive.\n",
    "### c. Create an array 10x10x3 with all elements set to one. Reshape it so that the size of the second dimension equals 150."
   ]
  },
  {
   "cell_type": "code",
   "execution_count": 2,
   "id": "aa81343a",
   "metadata": {},
   "outputs": [
    {
     "name": "stdout",
     "output_type": "stream",
     "text": [
      "[[0 1 2]\n",
      " [3 4 5]\n",
      " [6 7 8]] \n",
      " \n",
      "\n"
     ]
    }
   ],
   "source": [
    "# Solution \n",
    "\n",
    "#1\n",
    "print(np.arange(0,9).reshape(3,3), '\\n','\\n')"
   ]
  },
  {
   "cell_type": "code",
   "execution_count": 3,
   "id": "411efb22",
   "metadata": {},
   "outputs": [
    {
     "name": "stdout",
     "output_type": "stream",
     "text": [
      "[[[13 16 11]\n",
      "  [15 10 16]\n",
      "  [14 14 15]]\n",
      "\n",
      " [[11 15 12]\n",
      "  [17 10 19]\n",
      "  [17 16 12]]\n",
      "\n",
      " [[14 10 14]\n",
      "  [13 17 18]\n",
      "  [11 14 10]]]\n"
     ]
    }
   ],
   "source": [
    "#2\n",
    "print(np.random.randint(10,21, (3,3,3)))"
   ]
  },
  {
   "cell_type": "code",
   "execution_count": 4,
   "id": "d3e15dbc",
   "metadata": {},
   "outputs": [
    {
     "name": "stdout",
     "output_type": "stream",
     "text": [
      "[[[1. 1.]\n",
      "  [1. 1.]\n",
      "  [1. 1.]\n",
      "  [1. 1.]\n",
      "  [1. 1.]\n",
      "  [1. 1.]\n",
      "  [1. 1.]\n",
      "  [1. 1.]\n",
      "  [1. 1.]\n",
      "  [1. 1.]\n",
      "  [1. 1.]\n",
      "  [1. 1.]\n",
      "  [1. 1.]\n",
      "  [1. 1.]\n",
      "  [1. 1.]\n",
      "  [1. 1.]\n",
      "  [1. 1.]\n",
      "  [1. 1.]\n",
      "  [1. 1.]\n",
      "  [1. 1.]\n",
      "  [1. 1.]\n",
      "  [1. 1.]\n",
      "  [1. 1.]\n",
      "  [1. 1.]\n",
      "  [1. 1.]\n",
      "  [1. 1.]\n",
      "  [1. 1.]\n",
      "  [1. 1.]\n",
      "  [1. 1.]\n",
      "  [1. 1.]\n",
      "  [1. 1.]\n",
      "  [1. 1.]\n",
      "  [1. 1.]\n",
      "  [1. 1.]\n",
      "  [1. 1.]\n",
      "  [1. 1.]\n",
      "  [1. 1.]\n",
      "  [1. 1.]\n",
      "  [1. 1.]\n",
      "  [1. 1.]\n",
      "  [1. 1.]\n",
      "  [1. 1.]\n",
      "  [1. 1.]\n",
      "  [1. 1.]\n",
      "  [1. 1.]\n",
      "  [1. 1.]\n",
      "  [1. 1.]\n",
      "  [1. 1.]\n",
      "  [1. 1.]\n",
      "  [1. 1.]\n",
      "  [1. 1.]\n",
      "  [1. 1.]\n",
      "  [1. 1.]\n",
      "  [1. 1.]\n",
      "  [1. 1.]\n",
      "  [1. 1.]\n",
      "  [1. 1.]\n",
      "  [1. 1.]\n",
      "  [1. 1.]\n",
      "  [1. 1.]\n",
      "  [1. 1.]\n",
      "  [1. 1.]\n",
      "  [1. 1.]\n",
      "  [1. 1.]\n",
      "  [1. 1.]\n",
      "  [1. 1.]\n",
      "  [1. 1.]\n",
      "  [1. 1.]\n",
      "  [1. 1.]\n",
      "  [1. 1.]\n",
      "  [1. 1.]\n",
      "  [1. 1.]\n",
      "  [1. 1.]\n",
      "  [1. 1.]\n",
      "  [1. 1.]\n",
      "  [1. 1.]\n",
      "  [1. 1.]\n",
      "  [1. 1.]\n",
      "  [1. 1.]\n",
      "  [1. 1.]\n",
      "  [1. 1.]\n",
      "  [1. 1.]\n",
      "  [1. 1.]\n",
      "  [1. 1.]\n",
      "  [1. 1.]\n",
      "  [1. 1.]\n",
      "  [1. 1.]\n",
      "  [1. 1.]\n",
      "  [1. 1.]\n",
      "  [1. 1.]\n",
      "  [1. 1.]\n",
      "  [1. 1.]\n",
      "  [1. 1.]\n",
      "  [1. 1.]\n",
      "  [1. 1.]\n",
      "  [1. 1.]\n",
      "  [1. 1.]\n",
      "  [1. 1.]\n",
      "  [1. 1.]\n",
      "  [1. 1.]\n",
      "  [1. 1.]\n",
      "  [1. 1.]\n",
      "  [1. 1.]\n",
      "  [1. 1.]\n",
      "  [1. 1.]\n",
      "  [1. 1.]\n",
      "  [1. 1.]\n",
      "  [1. 1.]\n",
      "  [1. 1.]\n",
      "  [1. 1.]\n",
      "  [1. 1.]\n",
      "  [1. 1.]\n",
      "  [1. 1.]\n",
      "  [1. 1.]\n",
      "  [1. 1.]\n",
      "  [1. 1.]\n",
      "  [1. 1.]\n",
      "  [1. 1.]\n",
      "  [1. 1.]\n",
      "  [1. 1.]\n",
      "  [1. 1.]\n",
      "  [1. 1.]\n",
      "  [1. 1.]\n",
      "  [1. 1.]\n",
      "  [1. 1.]\n",
      "  [1. 1.]\n",
      "  [1. 1.]\n",
      "  [1. 1.]\n",
      "  [1. 1.]\n",
      "  [1. 1.]\n",
      "  [1. 1.]\n",
      "  [1. 1.]\n",
      "  [1. 1.]\n",
      "  [1. 1.]\n",
      "  [1. 1.]\n",
      "  [1. 1.]\n",
      "  [1. 1.]\n",
      "  [1. 1.]\n",
      "  [1. 1.]\n",
      "  [1. 1.]\n",
      "  [1. 1.]\n",
      "  [1. 1.]\n",
      "  [1. 1.]\n",
      "  [1. 1.]\n",
      "  [1. 1.]\n",
      "  [1. 1.]\n",
      "  [1. 1.]\n",
      "  [1. 1.]\n",
      "  [1. 1.]\n",
      "  [1. 1.]]]\n"
     ]
    }
   ],
   "source": [
    "#3\n",
    "\n",
    "my_arr = np.ones((10,10,3))\n",
    "my_arr_reshaped = my_arr.reshape((1,150,2))\n",
    "print(my_arr_reshaped)"
   ]
  },
  {
   "cell_type": "markdown",
   "id": "79222aa1",
   "metadata": {},
   "source": [
    "### Exercise 2. (12 points) Given the *arr_1* numpy array, \n",
    "### a. get a new array that will include only odd numbers from the *arr*,\n",
    "### b. get a new array where all odd numbers from the original array is replaced with -1. \n",
    "### c. get a new array from the original array where the maximum value of the array is replaced by 0. \n",
    "### d. filter the original array and get a new array that contains only values greater than 10 and smaller than 20. You can use \"&\" and have one condition or do it with two separate conditions. "
   ]
  },
  {
   "cell_type": "code",
   "execution_count": 5,
   "id": "c53c5f06",
   "metadata": {},
   "outputs": [],
   "source": [
    "# Solution \n",
    "arr_1 = np.array([17, 30, 29, 38, 16, 7, 33, 24, 33, 21, 31, 20, 25, 6, 44, 16, 46, 16, 34, 8])"
   ]
  },
  {
   "cell_type": "markdown",
   "id": "404a294b",
   "metadata": {},
   "source": [
    "### a"
   ]
  },
  {
   "cell_type": "code",
   "execution_count": 6,
   "id": "f2034af5",
   "metadata": {},
   "outputs": [
    {
     "name": "stdout",
     "output_type": "stream",
     "text": [
      "[17 29  7 33 33 21 31 25]\n"
     ]
    }
   ],
   "source": [
    "odd_arr = arr_1[arr_1 % 2 != 0]\n",
    "print(odd_arr)"
   ]
  },
  {
   "cell_type": "markdown",
   "id": "bc1b2863",
   "metadata": {},
   "source": [
    "### b"
   ]
  },
  {
   "cell_type": "code",
   "execution_count": 7,
   "id": "12b09413",
   "metadata": {},
   "outputs": [
    {
     "name": "stdout",
     "output_type": "stream",
     "text": [
      "[-1 30 -1 38 16 -1 -1 24 -1 -1 -1 20 -1  6 44 16 46 16 34  8]\n"
     ]
    }
   ],
   "source": [
    "replaced_arr = arr_1.copy()\n",
    "replaced_arr[arr_1 % 2 != 0] = -1\n",
    "print(replaced_arr)"
   ]
  },
  {
   "cell_type": "markdown",
   "id": "40c741ca",
   "metadata": {},
   "source": [
    "### c"
   ]
  },
  {
   "cell_type": "code",
   "execution_count": 8,
   "id": "23fd782c",
   "metadata": {},
   "outputs": [
    {
     "name": "stdout",
     "output_type": "stream",
     "text": [
      "[17 30 29 38 16  7 33 24 33 21 31 20 25  6 44 16  0 16 34  8]\n"
     ]
    }
   ],
   "source": [
    "new_arr = arr_1.copy()\n",
    "index_of_max_element = np.where(arr_1 == arr_1.max())[0][0]\n",
    "new_arr[index_of_max_element] = 0\n",
    "print(new_arr)"
   ]
  },
  {
   "cell_type": "markdown",
   "id": "fff229d7",
   "metadata": {},
   "source": [
    "### d"
   ]
  },
  {
   "cell_type": "code",
   "execution_count": 9,
   "id": "b26e6131",
   "metadata": {},
   "outputs": [
    {
     "data": {
      "text/plain": [
       "array([17, 16, 16, 16])"
      ]
     },
     "execution_count": 9,
     "metadata": {},
     "output_type": "execute_result"
    }
   ],
   "source": [
    "arr_1[np.logical_and(arr_1 > 10,arr_1 < 20)]"
   ]
  },
  {
   "cell_type": "markdown",
   "id": "a6d6f35b",
   "metadata": {},
   "source": [
    "### Exercise 3. (8 points) Write a function, that gets as an input an integer *n*, and returns a $ nxn $ 2-d array with zeros on the border and 1 everywhere else.\n",
    "\n",
    "#### Example: n = 3, output \n",
    "0 0 0 <br>\n",
    "0 1 0 <br>\n",
    "0 0 0 <br>"
   ]
  },
  {
   "cell_type": "code",
   "execution_count": 10,
   "id": "03e1c1d6",
   "metadata": {},
   "outputs": [
    {
     "name": "stdout",
     "output_type": "stream",
     "text": [
      "Please input an integer n 4\n",
      "[[0. 0. 0. 0.]\n",
      " [0. 1. 1. 0.]\n",
      " [0. 1. 1. 0.]\n",
      " [0. 0. 0. 0.]]\n"
     ]
    }
   ],
   "source": [
    "# Solution \n",
    "try:\n",
    "    n = int(input(\"Please input an integer n \"))\n",
    "    if(n < 0):\n",
    "        raise ValueError\n",
    "    my_arr = np.zeros((n,n))\n",
    "    my_arr[1:-1, 1:-1] = 1\n",
    "    print(my_arr)\n",
    "except ValueError:\n",
    "    print(\"invalid input\")"
   ]
  },
  {
   "cell_type": "markdown",
   "id": "0de8759b",
   "metadata": {},
   "source": [
    "### Exercise 4. (8 points) Write a function, that gets as an input 2d numpy array of np.int32 values, and adds a border filled with 0s around the array (from all sides), and returns the array. Check in your function the type and dimension of the array and raise an exception if they do not satisfy the problem definition. (Hint: np.pad)"
   ]
  },
  {
   "cell_type": "code",
   "execution_count": 12,
   "id": "2fd0670c",
   "metadata": {},
   "outputs": [
    {
     "name": "stdout",
     "output_type": "stream",
     "text": [
      "Please input the number of columns of the array: 4\n",
      "Please input the number of rows of the array: 4\n",
      "Input the element (0,0)6, 7\n",
      "Array must be filled with int values only\n",
      "Input the element (0,0)6 7\n",
      "Array must be filled with int values only\n",
      "Input the element (0,0)5\n",
      "Input the element (0,1)8\n",
      "Input the element (0,2)9\n",
      "Input the element (0,3)9\n",
      "Input the element (1,0)9\n",
      "Input the element (1,1)9\n",
      "Input the element (1,2)9\n",
      "Input the element (1,3)9\n",
      "Input the element (2,0)9\n",
      "Input the element (2,1)9\n",
      "Input the element (2,2)9\n",
      "Input the element (2,3)9\n",
      "Input the element (3,0)9\n",
      "Input the element (3,1)9\n",
      "Input the element (3,2)9\n",
      "Input the element (3,3)9\n",
      "[[0 0 0 0 0 0]\n",
      " [0 5 8 9 9 0]\n",
      " [0 9 9 9 9 0]\n",
      " [0 9 9 9 9 0]\n",
      " [0 9 9 9 9 0]\n",
      " [0 0 0 0 0 0]]\n"
     ]
    }
   ],
   "source": [
    "#### Solution \n",
    "\n",
    "try:\n",
    "    columns = int(input(\"Please input the number of columns of the array: \"))\n",
    "    if(columns < 0):\n",
    "        raise ValueError\n",
    "                    \n",
    "    try:\n",
    "        rows = int(input(\"Please input the number of rows of the array: \"))\n",
    "        if(rows < 0 or (rows == 0 and columns == 0)):\n",
    "            raise ValueError\n",
    "        array = np.ones((rows, columns), dtype = np.int32)\n",
    "        for i in range(0, columns):\n",
    "            for k in range(0, rows):\n",
    "                while(True):\n",
    "                    try:\n",
    "                        array[i, k] = int(input(\"Input the element ({},{})\".format(i,k)))\n",
    "                        break\n",
    "                    except ValueError:\n",
    "                        print(\"Array must be filled with int values only\")\n",
    "        my_array = np.pad(array,((1,1),(1,1)), 'constant')\n",
    "        print(m9y_array)\n",
    "    except ValueError:\n",
    "        print(\"invalid input\")\n",
    "except ValueError:\n",
    "    print(\"invalid input\")\n"
   ]
  },
  {
   "cell_type": "code",
   "execution_count": null,
   "id": "b52aaef7",
   "metadata": {},
   "outputs": [],
   "source": [
    "my_array #to check the dtype"
   ]
  },
  {
   "cell_type": "markdown",
   "id": "bd2c67db",
   "metadata": {},
   "source": [
    "### Exercise 5. (8 points) Create a function that returns eight-by-eight matrix filled with a checkerboard (black and white being 0s and 1s) pattern."
   ]
  },
  {
   "cell_type": "code",
   "execution_count": 21,
   "id": "25c6c65a",
   "metadata": {},
   "outputs": [
    {
     "data": {
      "text/plain": [
       "array([[0, 1, 0, 1, 0, 1, 0, 1],\n",
       "       [1, 0, 1, 0, 1, 0, 1, 0],\n",
       "       [0, 1, 0, 1, 0, 1, 0, 1],\n",
       "       [1, 0, 1, 0, 1, 0, 1, 0],\n",
       "       [0, 1, 0, 1, 0, 1, 0, 1],\n",
       "       [1, 0, 1, 0, 1, 0, 1, 0],\n",
       "       [0, 1, 0, 1, 0, 1, 0, 1],\n",
       "       [1, 0, 1, 0, 1, 0, 1, 0]])"
      ]
     },
     "execution_count": 21,
     "metadata": {},
     "output_type": "execute_result"
    }
   ],
   "source": [
    "np.tile([[0,1],[1,0]], (4,4))"
   ]
  },
  {
   "cell_type": "markdown",
   "id": "fa3f6389",
   "metadata": {},
   "source": [
    "### Exercise 6. (8 points) Let x be a numpy array [0, 0, 0, 1, 2, 0, 3, 0, 2, 1, 0]\n",
    "### a. remove all zeros from the array,\n",
    "### b. remove the leading the trailing zeros. (hint: numpy has a function that can easily do this, search for it)"
   ]
  },
  {
   "cell_type": "code",
   "execution_count": null,
   "id": "18f424f5",
   "metadata": {},
   "outputs": [],
   "source": [
    "# Solution\n",
    "\n",
    "x = np.array([0, 0, 0, 1, 2, 0, 3, 0, 2, 1, 0])"
   ]
  },
  {
   "cell_type": "markdown",
   "id": "e432072d",
   "metadata": {},
   "source": [
    "### a"
   ]
  },
  {
   "cell_type": "code",
   "execution_count": null,
   "id": "d480507b",
   "metadata": {},
   "outputs": [],
   "source": [
    "print(x[x != 0])"
   ]
  },
  {
   "cell_type": "markdown",
   "id": "c990d7a4",
   "metadata": {},
   "source": [
    "### b"
   ]
  },
  {
   "cell_type": "code",
   "execution_count": null,
   "id": "0dd64094",
   "metadata": {},
   "outputs": [],
   "source": [
    "np.trim_zeros(x)"
   ]
  },
  {
   "cell_type": "markdown",
   "id": "67bd2482",
   "metadata": {},
   "source": [
    "### Exercise 7. (8 points) Create a simulation of dice rolling, 1000 times. That is create a numpy array with 1000 random integers from 1 to 6. Then count how many 6s were rolled and divide this number to 1000. Is the number close to 1/6 ? "
   ]
  },
  {
   "cell_type": "code",
   "execution_count": null,
   "id": "60d9121b",
   "metadata": {},
   "outputs": [],
   "source": [
    "dice_rolls = np.random.randint(1,7, size = (1,1000))\n",
    "print(\"My calculation: \", (dice_rolls[dice_rolls == 6].size)/1000)\n",
    "print(\"1/6 is: \", 1/6)\n",
    "print(\"Yes it is close\")"
   ]
  },
  {
   "cell_type": "markdown",
   "id": "9501452e",
   "metadata": {},
   "source": [
    "### Exercise 8. (15 points) Given a numpy array, get \n",
    "### a. the largest value of an array, \n",
    "### b. the second largest value of an array\n",
    "### c. the unique elements from the array (hint: np.unique)\n",
    "### d. find 3 most frequent values in the array (hint: explore arguments of the np.unique)\n",
    "### e. find the indices of elements that are zero (hint: np.where)"
   ]
  },
  {
   "cell_type": "code",
   "execution_count": null,
   "id": "c006a1f9",
   "metadata": {},
   "outputs": [],
   "source": [
    "# Solution\n",
    "arr_2 = np.array([ 2, 12, 19, 12, 15, 10,  4,  2, 0,  9,  9,  9,  2, 19,  3, 0,  7, 13, 15, 11,  2, 13, 0])"
   ]
  },
  {
   "cell_type": "markdown",
   "id": "9b617a07",
   "metadata": {},
   "source": [
    "### a"
   ]
  },
  {
   "cell_type": "code",
   "execution_count": null,
   "id": "5919fb39",
   "metadata": {},
   "outputs": [],
   "source": [
    "arr_2.max()"
   ]
  },
  {
   "cell_type": "markdown",
   "id": "de26c3c7",
   "metadata": {},
   "source": [
    "### b"
   ]
  },
  {
   "cell_type": "code",
   "execution_count": null,
   "id": "4c80f3a8",
   "metadata": {},
   "outputs": [],
   "source": [
    "arr_2[~ (arr_2 == arr_2.max())].max()"
   ]
  },
  {
   "cell_type": "markdown",
   "id": "e2161c78",
   "metadata": {},
   "source": [
    "### c"
   ]
  },
  {
   "cell_type": "code",
   "execution_count": null,
   "id": "0f65720c",
   "metadata": {},
   "outputs": [],
   "source": [
    "np.unique(arr_2)"
   ]
  },
  {
   "cell_type": "markdown",
   "id": "a25c914c",
   "metadata": {},
   "source": [
    "### d"
   ]
  },
  {
   "cell_type": "code",
   "execution_count": null,
   "id": "368c6e48",
   "metadata": {},
   "outputs": [],
   "source": [
    "arr_element, arr_max = np.unique(arr_2, return_counts=True)"
   ]
  },
  {
   "cell_type": "code",
   "execution_count": null,
   "id": "63790392",
   "metadata": {},
   "outputs": [],
   "source": [
    "arr_element"
   ]
  },
  {
   "cell_type": "code",
   "execution_count": null,
   "id": "7debab7a",
   "metadata": {},
   "outputs": [],
   "source": [
    "arr_max"
   ]
  },
  {
   "cell_type": "code",
   "execution_count": null,
   "id": "6f1b39cd",
   "metadata": {},
   "outputs": [],
   "source": [
    "frequents = []"
   ]
  },
  {
   "cell_type": "markdown",
   "id": "648c0d43",
   "metadata": {},
   "source": [
    "## Since there was an issue with the quantity of frequent elemens (length was being more than 3, I decided to use loops) joined with numpy arrays"
   ]
  },
  {
   "cell_type": "code",
   "execution_count": 11,
   "id": "a7003d4d",
   "metadata": {},
   "outputs": [
    {
     "ename": "NameError",
     "evalue": "name 'frequents' is not defined",
     "output_type": "error",
     "traceback": [
      "\u001b[0;31m---------------------------------------------------------------------------\u001b[0m",
      "\u001b[0;31mNameError\u001b[0m                                 Traceback (most recent call last)",
      "Input \u001b[0;32mIn [11]\u001b[0m, in \u001b[0;36m<cell line: 1>\u001b[0;34m()\u001b[0m\n\u001b[0;32m----> 1\u001b[0m \u001b[38;5;28;01mwhile\u001b[39;00m(\u001b[38;5;28mlen\u001b[39m(\u001b[43mfrequents\u001b[49m) \u001b[38;5;241m!=\u001b[39m \u001b[38;5;241m3\u001b[39m):\n\u001b[1;32m      2\u001b[0m     \u001b[38;5;28;01mfor\u001b[39;00m i \u001b[38;5;129;01min\u001b[39;00m \u001b[38;5;28mrange\u001b[39m(\u001b[38;5;241m0\u001b[39m, \u001b[38;5;28mlen\u001b[39m(arr_max)):\n\u001b[1;32m      3\u001b[0m         \u001b[38;5;28;01mif\u001b[39;00m(arr_max[i] \u001b[38;5;241m==\u001b[39m arr_max\u001b[38;5;241m.\u001b[39mmax()):\n",
      "\u001b[0;31mNameError\u001b[0m: name 'frequents' is not defined"
     ]
    }
   ],
   "source": [
    "while(len(frequents) != 3):\n",
    "    for i in range(0, len(arr_max)):\n",
    "        if(arr_max[i] == arr_max.max()):\n",
    "            frequents.append(arr_element[i])\n",
    "            if(len(frequents) == 3):\n",
    "                break\n",
    "    arr_element = arr_element[~(arr_max == arr_max.max())]\n",
    "    arr_max = arr_max[~(arr_max == arr_max.max())]"
   ]
  },
  {
   "cell_type": "code",
   "execution_count": null,
   "id": "ef0a3e9c",
   "metadata": {},
   "outputs": [],
   "source": [
    "frequents"
   ]
  },
  {
   "cell_type": "markdown",
   "id": "56f749ef",
   "metadata": {},
   "source": [
    "### e"
   ]
  },
  {
   "cell_type": "markdown",
   "id": "44e8636b",
   "metadata": {},
   "source": [
    "### Exercise 9. (8 points) Given a 2d numpy array.\n",
    "### a. switch 0th and 1st rows.\n",
    "### b. switch 2nd and 3rd columns."
   ]
  },
  {
   "cell_type": "code",
   "execution_count": null,
   "id": "a29afa1a",
   "metadata": {},
   "outputs": [],
   "source": [
    "# Solution \n",
    "arr_3 = np.array([[1, 2, 3, 4], [5, 6, 7, 8], [9, 10, 11, 12], [13, 14, 15, 16]])"
   ]
  },
  {
   "cell_type": "markdown",
   "id": "df4edf25",
   "metadata": {},
   "source": [
    "## a"
   ]
  },
  {
   "cell_type": "code",
   "execution_count": null,
   "id": "62d25bc2",
   "metadata": {},
   "outputs": [],
   "source": [
    "arr_3"
   ]
  },
  {
   "cell_type": "code",
   "execution_count": null,
   "id": "5a6d538e",
   "metadata": {},
   "outputs": [],
   "source": [
    "arr_3[[0,1]] = arr_3[[1,0]]"
   ]
  },
  {
   "cell_type": "code",
   "execution_count": null,
   "id": "07e8b49c",
   "metadata": {},
   "outputs": [],
   "source": [
    "arr_3"
   ]
  },
  {
   "cell_type": "markdown",
   "id": "3f6b5216",
   "metadata": {},
   "source": [
    "### b"
   ]
  },
  {
   "cell_type": "code",
   "execution_count": null,
   "id": "04bb0724",
   "metadata": {},
   "outputs": [],
   "source": [
    "arr_3[[2,3]] = arr_3[[3,2]]"
   ]
  },
  {
   "cell_type": "code",
   "execution_count": null,
   "id": "e3ed0f0d",
   "metadata": {},
   "outputs": [],
   "source": [
    "arr_3"
   ]
  },
  {
   "cell_type": "markdown",
   "id": "5ae0cc24",
   "metadata": {},
   "source": [
    "### Exercise 10. (15 points) Consider a random 10x2 matrix representing cartesian coordinates (first column are x-s, second column are y-s), convert them to polar coordinates.\n",
    "$$\n",
    "(r, \\theta) = (\\sqrt{x^2 + y^2}, \\tan^{-1} \\big( \\frac{y}{x} \\big) )\n",
    "$$\n",
    "\n",
    "### You should obtain again 10x2 matrix, where the first column will be $r$, second $\\theta$. Write a function that does this, and then test your function on a matrix full of random numbers. (hint: be careful whether you need np.arctan or np.arctan2.)"
   ]
  },
  {
   "cell_type": "code",
   "execution_count": null,
   "id": "cdf7b766",
   "metadata": {},
   "outputs": [],
   "source": [
    "def get_values(row):\n",
    "    r = np.sqrt(row[0]**2 + row[1]**2) \n",
    "    theta = np.arctan2(row[1], row[0])\n",
    "    return(np.array([r, theta]))\n",
    "def polar_converter(matrix):\n",
    "    new_matrix = np.empty(matrix.shape)\n",
    "    for i in range(0, len(matrix)):\n",
    "        row = get_values(matrix[i])\n",
    "        new_matrix[i] = row\n",
    "    return(new_matrix)\n",
    "matrix = np.random.randint((10,10), size=(10,2))\n",
    "new_matrix = polar_converter(matrix)\n",
    "print(new_matrix)"
   ]
  }
 ],
 "metadata": {
  "kernelspec": {
   "display_name": "Python 3 (ipykernel)",
   "language": "python",
   "name": "python3"
  },
  "language_info": {
   "codemirror_mode": {
    "name": "ipython",
    "version": 3
   },
   "file_extension": ".py",
   "mimetype": "text/x-python",
   "name": "python",
   "nbconvert_exporter": "python",
   "pygments_lexer": "ipython3",
   "version": "3.9.12"
  }
 },
 "nbformat": 4,
 "nbformat_minor": 5
}
