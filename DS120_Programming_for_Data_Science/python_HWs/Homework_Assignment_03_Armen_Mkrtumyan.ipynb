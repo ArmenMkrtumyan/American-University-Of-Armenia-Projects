{
 "cells": [
  {
   "cell_type": "markdown",
   "id": "3c961aa7",
   "metadata": {},
   "source": [
    "## Your name - Armen Mkrtumyan"
   ]
  },
  {
   "cell_type": "markdown",
   "id": "10189a41",
   "metadata": {},
   "source": [
    "### Problem 1. (10 points) Use **map**, **filter** functions, do not use any for or while.\n",
    "### a. Given the list, get a new list, so that all strings in the list are converted to strings which have only the first letter uppercase (hint: there is a function similar to *upper* or *lower* functions we covered).\n",
    "### b. Given the list, filter to have only those strings, that have first character uppercase, you should have this in a new list."
   ]
  },
  {
   "cell_type": "code",
   "execution_count": 5,
   "id": "13a4716a",
   "metadata": {},
   "outputs": [],
   "source": [
    "a_list_example = [\"harry\", \"potter\", \"hermione\", \"granger\", \"ron\", \"whisley\"]\n",
    "b_list_example = [\"Armenia\", \"spain\", \"russia\", \"Germany\", \"Netherlands\", \"italy\"]"
   ]
  },
  {
   "cell_type": "code",
   "execution_count": 6,
   "id": "ef4e3b44",
   "metadata": {},
   "outputs": [
    {
     "name": "stdout",
     "output_type": "stream",
     "text": [
      "\n",
      " ['Harry', 'Potter', 'Hermione', 'Granger', 'Ron', 'Whisley'] \n",
      " ['Armenia', 'Germany', 'Netherlands']\n"
     ]
    }
   ],
   "source": [
    "# Solution\n",
    "\n",
    "def return_letter(word):\n",
    "    if (ord(word[0]) >= 97 and ord(word[0]) <= 122):\n",
    "        return (chr(ord(word[0])- 32) + word[1:])\n",
    "    return word\n",
    "\n",
    "mapped_list = list(map(return_letter, a_list_example))\n",
    "filtered_list = list(filter(lambda word: word[0].isupper(), b_list_example))\n",
    "\n",
    "print('\\n',mapped_list,'\\n', filtered_list)"
   ]
  },
  {
   "cell_type": "markdown",
   "id": "49477398",
   "metadata": {},
   "source": [
    "### Problem 2. (5 points) Write a Python program that takes a positive integer greater than 2 from the user input and print the number of times you must repeatedly divide the integer by 2 to get a value 1 or 2."
   ]
  },
  {
   "cell_type": "code",
   "execution_count": 3,
   "id": "bbc8c310",
   "metadata": {
    "scrolled": true
   },
   "outputs": [
    {
     "name": "stdout",
     "output_type": "stream",
     "text": [
      "Please input positive integer greater than 2: \n",
      "Please input positive integer greater than 2: \n",
      "Please input positive integer greater than 2: \n",
      "Please input positive integer greater than 2: \n",
      "Please input positive integer greater than 2: a\n",
      "Please input positive integer greater than 2: 1\n",
      "Please input positive integer greater than 2: 1\n",
      "Please input positive integer greater than 2: 1\n",
      "Please input positive integer greater than 2: 1\n",
      "Please input positive integer greater than 2: 2\n",
      "Please input positive integer greater than 2: 3\n",
      "It took 1 time to divide the input by 2 untill its 1 or 2\n"
     ]
    }
   ],
   "source": [
    "# Solution \n",
    "\n",
    "def check(input_int):\n",
    "    if((input_int.isnumeric())):\n",
    "        return(not(int(input_int) > 2))\n",
    "    return True\n",
    "input_int = \"a\"\n",
    "while (check(input_int)):\n",
    "    input_int = input(\"Please input positive integer greater than 2: \")\n",
    "num_of_times = 0\n",
    "input_int = int(input_int)\n",
    "while (input_int > 2):\n",
    "    num_of_times += 1\n",
    "    input_int //= 2  \n",
    "print (\"It took {} time to divide the input by 2 untill its 1 or 2\".format(num_of_times))"
   ]
  },
  {
   "cell_type": "markdown",
   "id": "32510912",
   "metadata": {},
   "source": [
    "### Problem 3. (10 points) Write a program that asks the users to enter a series of burger ingredients that they want on their burger, until they enter a 'quit' value. As they enter each ingredient, print that their request is accepted, and you will add {ingredient_name} to the burger."
   ]
  },
  {
   "cell_type": "code",
   "execution_count": 4,
   "id": "53023c6d",
   "metadata": {},
   "outputs": [
    {
     "name": "stdout",
     "output_type": "stream",
     "text": [
      "The name of the ingredient: as\n",
      "Your request is accepted and the as will be added to the burger\n",
      "The name of the ingredient: as\n",
      "Your request is accepted and the as will be added to the burger\n",
      "The name of the ingredient: dk\n",
      "Your request is accepted and the dk will be added to the burger\n",
      "The name of the ingredient: ks\n",
      "Your request is accepted and the ks will be added to the burger\n",
      "The name of the ingredient: ska\n",
      "Your request is accepted and the ska will be added to the burger\n",
      "The name of the ingredient: ask\n",
      "Your request is accepted and the ask will be added to the burger\n",
      "The name of the ingredient: aks\n",
      "Your request is accepted and the aks will be added to the burger\n",
      "The name of the ingredient: as\n",
      "Your request is accepted and the as will be added to the burger\n",
      "The name of the ingredient: \n",
      "Your request is accepted and the  will be added to the burger\n",
      "The name of the ingredient: quit\n",
      "\n",
      " The ingredients of the burger are \n",
      " ['as', 'as', 'dk', 'ks', 'ska', 'ask', 'aks', 'as', '']\n"
     ]
    }
   ],
   "source": [
    "# Solution\n",
    "\n",
    "#Without checking the validity of the input strings since not mentioned by the question\n",
    "\n",
    "ingredient = \"\"\n",
    "burger = []\n",
    "while (ingredient != \"quit\"):\n",
    "    ingredient = input(\"The name of the ingredient: \")\n",
    "    if(ingredient != 'quit'):\n",
    "        burger.append(ingredient);\n",
    "        print(\"Your request is accepted and the {} will be added to the burger\".format(ingredient))\n",
    "print(\"\\n The ingredients of the burger are \\n\", burger)"
   ]
  },
  {
   "cell_type": "markdown",
   "id": "cda565ca",
   "metadata": {},
   "source": [
    "#### Problem 4. (10 points) Imagine you are painting your room's walls (assume your room is a standard rectangular parallelepiped) and you need to calculate the area of the walls. Get the room's three measurements - height, width, length from the user input, and write a function, that gets as input the height, width and length, and returns the calculated area of the walls. Run this function on the user input you got. Use only one *input* function to get the three numbers. Use try-except block, so that the user input is valid for area calculation."
   ]
  },
  {
   "cell_type": "code",
   "execution_count": null,
   "id": "41ad8117",
   "metadata": {},
   "outputs": [],
   "source": [
    "# Solution \n",
    "\n",
    "height = -1\n",
    "width = -1\n",
    "length = -1\n",
    "message = \"{} should be a NUMBER greater than zero\"\n",
    "\n",
    "#Included just a bunch of try and excepts statements which check the validity of each height, width and length\n",
    "#Does not let input non-numbers or numbers less than or equal to zero\n",
    "while(height == -1):\n",
    "    try:\n",
    "        height = float(input(\"Height: \"))\n",
    "        if (height <= 0):\n",
    "            print(message.format(\"Height\"))\n",
    "            height = -1\n",
    "            continue\n",
    "        while (width == -1):\n",
    "            try:\n",
    "                width = float(input(\"Width: \"))\n",
    "                if (width <= 0):\n",
    "                    print(message.format(\"Width\"))\n",
    "                    width = -1\n",
    "                    continue\n",
    "                while(length == -1):\n",
    "                    try:\n",
    "                        length = float(input(\"Lenght: \"))\n",
    "                        if (length <= 0):\n",
    "                            print(message.format(\"Length\"))\n",
    "                            length = -1\n",
    "                            continue\n",
    "                        break\n",
    "                    except ValueError:\n",
    "                            print(message.format(\"Length\"))\n",
    "            except ValueError:\n",
    "                    print(message.format(\"Width\"))\n",
    "    except ValueError:\n",
    "        print(message.format(\"Height\"))\n",
    "print(\"Calculated area is: {}\".format(height * width * length))"
   ]
  },
  {
   "cell_type": "markdown",
   "id": "45cead5b",
   "metadata": {},
   "source": [
    "### Problem 5. (10 points) Write a python code that asks the user to input list of grades separated by commas. Split the string into individual grades and use a list comprehension to convert each string to an integer. You should use a try statement to inform the user when the values they entered cannot be converted."
   ]
  },
  {
   "cell_type": "code",
   "execution_count": null,
   "id": "225c85e5",
   "metadata": {},
   "outputs": [],
   "source": [
    "# Solution\n",
    "\n",
    "success = True\n",
    "while(success):\n",
    "    grades = input(\"Input a list of grades separated by commas\").split(',')\n",
    "    try:\n",
    "        new_list = (list(int(x) for x in grades))\n",
    "        success = False\n",
    "    except ValueError:\n",
    "        print(\"\\n Values you entered could not be converted \\\n",
    "        \\n Please make sure you inputted numbers seperated by commas\")\n",
    "print(\"SUCCESS! Your list is: \", new_list)"
   ]
  },
  {
   "cell_type": "markdown",
   "id": "92324959",
   "metadata": {},
   "source": [
    "### Problem 6. (5 points) Give an example of a Python code that attempts to write an element to a list based on an index that may be out of bounds. If that index is out of bounds, the program should catch the exception that results, and print the following error message:\n",
    "### “Don’t try buffer overflow attacks in Python!”\n",
    "\n",
    "### You should only handle this exception case."
   ]
  },
  {
   "cell_type": "code",
   "execution_count": null,
   "id": "b77fb5e8",
   "metadata": {},
   "outputs": [],
   "source": [
    "# Solution\n",
    "\n",
    "example_list = [1, 2, 4]\n",
    "error_raised = True\n",
    "while(error_raised):\n",
    "    try:\n",
    "        index = int(input(\"Input index: \"))\n",
    "        example_list[index] = 1\n",
    "        error_raised = False\n",
    "    except IndexError:\n",
    "        print(\"Don’t try buffer overflow attacks in Python!\")"
   ]
  },
  {
   "cell_type": "markdown",
   "id": "95241fe3",
   "metadata": {},
   "source": [
    "# Problem 7. (10 points) The p-norm of a vector $v = (v_1,v_2,...,v_n)$ in n-dimensional space is defined as\n",
    "$$\\lVert v \\lVert =  \\sqrt[p]{v_1^p + v_2^p + ... + v_n^p}$$\n",
    "\n",
    "### For the special case of $p = 2$, this results in the traditional Euclidean norm, which represents the length of the vector. For example, the Euclidean norm of a two-dimensional vector with coordinates $(4,3)$ has a Euclidean norm of $\\sqrt{4^2 + 3^2} = \\sqrt{16 + 9}= 5$. Give an implementation of a function named norm such that norm(v, p) returns the p-norm value of v and norm(v) returns the Euclidean norm of v. You may assume that v is a list of numbers."
   ]
  },
  {
   "cell_type": "code",
   "execution_count": null,
   "id": "12d36def",
   "metadata": {},
   "outputs": [],
   "source": [
    "# Solution\n",
    "\n",
    "def norm(v, p=2):\n",
    "    summ = 0\n",
    "    for i in v:\n",
    "        summ += i**p\n",
    "    return(summ ** (1/2))\n",
    "\n",
    "print(norm([4,3],3))"
   ]
  },
  {
   "cell_type": "markdown",
   "id": "2bbef11f",
   "metadata": {},
   "source": [
    "### Problem 8. (15 points)\n",
    "### a. Write a Python program to read the entire text file *1984.txt*.\n",
    "### b. Count the number of lines there is in the *1984.txt* file. Are you counting the lines between paragraphs? Do not count them, or report two numbers one with, one without.\n",
    "### c. Write \"I like this book.\" as an additional line in the txt file. \n",
    "### d. Write a Python function that gets as an argument the filename and integer n, and reads and prints the first n lines of a file. Test your function on *1984.txt* file and n = 9 case. You can assume that n is smaller than the number of lines in the file."
   ]
  },
  {
   "cell_type": "markdown",
   "id": "70768364",
   "metadata": {},
   "source": [
    "## a"
   ]
  },
  {
   "cell_type": "code",
   "execution_count": null,
   "id": "35ce44f1",
   "metadata": {},
   "outputs": [],
   "source": [
    "with open(\"1984.txt\") as file_object: \n",
    "    contents = file_object.read() \n",
    "    print(contents.rstrip())"
   ]
  },
  {
   "cell_type": "markdown",
   "id": "ff04e3b6",
   "metadata": {},
   "source": [
    "## b"
   ]
  },
  {
   "cell_type": "code",
   "execution_count": null,
   "id": "a6de8ea1",
   "metadata": {},
   "outputs": [],
   "source": [
    "# Solution \n",
    "\n",
    "lines = 0\n",
    "with open(\"1984.txt\") as file_object: \n",
    "    contents = file_object.readlines() \n",
    "    for txt_part in contents:\n",
    "        print(txt_part)\n",
    "        if (txt_part.strip() != ''):\n",
    "            lines+=1\n",
    "print(\"Number of lines is: \", lines)"
   ]
  },
  {
   "cell_type": "markdown",
   "id": "743ded54",
   "metadata": {},
   "source": [
    "## c"
   ]
  },
  {
   "cell_type": "code",
   "execution_count": null,
   "id": "7d816008",
   "metadata": {},
   "outputs": [],
   "source": [
    "with open(\"1984.txt\", \"a\") as file_object:\n",
    "    file_object.writelines(\"I like this book\")"
   ]
  },
  {
   "cell_type": "markdown",
   "id": "44caaa11",
   "metadata": {},
   "source": [
    "## d"
   ]
  },
  {
   "cell_type": "code",
   "execution_count": null,
   "id": "36f458bc",
   "metadata": {},
   "outputs": [],
   "source": [
    "def work_file(filename, n):\n",
    "    with open(filename) as file_object: \n",
    "        contents = file_object.readlines() \n",
    "        i = 0\n",
    "        lines = 0\n",
    "        while(True):\n",
    "            if(lines == n):\n",
    "                break\n",
    "            if(contents[i].strip() != ''):\n",
    "                print(contents[i])\n",
    "                lines +=1\n",
    "            i+=1\n",
    "            \n",
    "work_file(\"1984.txt\", 9)"
   ]
  },
  {
   "cell_type": "markdown",
   "id": "9023af45",
   "metadata": {},
   "source": [
    "### Problem 9. (10 points) Write a python program that reads the file *words.txt* and returns a dictionary with word - count pairs. Then write this dictionary in a *words.json* file.\n",
    "\n",
    "### example. if the txt file's content is \"Anna goes to see Anna.\", the dictionary will be {\"Anna\": 2, \"goes\": 1, \"to\": 1, \"see\": 1}. \n",
    "\n",
    "### Note: what you can do with \".\" at the end of the sentence to remove it before getting the words. You can assume there is no other punctuation marks in the txt, except for the \".\" in the end of sentence. Be careful with upper and lower case words - we consider \"Anna\" and \"anna\" the same words."
   ]
  },
  {
   "cell_type": "code",
   "execution_count": null,
   "id": "34673388",
   "metadata": {},
   "outputs": [],
   "source": [
    "# Solution \n",
    "with open(\"words.txt\") as file_object: \n",
    "    contents = file_object.read().lower()[:-2].split()\n",
    "    print(' '.join(contents))\n",
    "    keys = list(set(contents))\n",
    "    print({key: contents.count(key) for key in keys})"
   ]
  },
  {
   "cell_type": "markdown",
   "id": "682bfe8f",
   "metadata": {},
   "source": [
    "### Problem 10. (15 points) Write a calculator (as you did for a division calculator during the lecture) that does all basic arithmetic operations - adding, subtracting, multiplication and division. So the calculator should have 3 inputs - 2 for numeric inputs, the other one for the operation (string \"+\", \"-\", \"/\" or \"*\").\n",
    "\n",
    "### - If any of the inputs is \"q\" the calculator needs to stop. \n",
    "### - You should do error handling (proper exceptions) to get numeric values as inputs.\n",
    "### - You should check to see whether the operator input takes only this 4 characters for operations.\n",
    "### - Do not forget division error case."
   ]
  },
  {
   "cell_type": "code",
   "execution_count": 8,
   "id": "4e4c9774",
   "metadata": {},
   "outputs": [
    {
     "name": "stdout",
     "output_type": "stream",
     "text": [
      "Please input the first number: 2\n",
      "Please input the operator (+, *, -, /): *\n",
      "Please input the second number: a\n",
      "Your input should be numeric only\n",
      "Please input the second number: s\n",
      "Your input should be numeric only\n",
      "Please input the second number: s\n",
      "Your input should be numeric only\n",
      "Please input the second number: 1\n",
      "2.0 * 1.0 is equal to 2.0\n"
     ]
    }
   ],
   "source": [
    "# Solution \n",
    "\n",
    "def quit_checker(char):\n",
    "    if(char == 'q'):\n",
    "        print(\"Quiting Calculator...Please run the cell again to start over\")\n",
    "        return (True)\n",
    "    return (False)\n",
    "\n",
    "\n",
    "\n",
    "### Get the first number\n",
    "\n",
    "checker = True #boolean for continuously asking question untill needed value\n",
    "while(checker):\n",
    "    try:\n",
    "        first = input(\"Please input the first number: \")\n",
    "        if(quit_checker(first)):      #Checking if the user wants to quit\n",
    "            break\n",
    "        first = float(first)\n",
    "        checker = False\n",
    "    except ValueError:\n",
    "        print(\"Your input should be numeric only\")\n",
    "\n",
    "        \n",
    "\n",
    "### Get the operator\n",
    "\n",
    "checker = True\n",
    "while(checker and first != 'q'):    #making sure to not ask for other values if previous ones were quitted\n",
    "    try:\n",
    "        my_operator = input(\"Please input the operator (+, *, -, /): \")\n",
    "        if(quit_checker(my_operator)):\n",
    "            break\n",
    "        #Raising an error in case the opperator is mismathced\n",
    "        if(my_operator.strip() != '+' and my_operator.strip() != '-' and my_operator.strip() != '*' and my_operator.strip() != '/'):\n",
    "            raise ValueError\n",
    "        checker = False\n",
    "    except ValueError:\n",
    "        print(\"Your input should be from one of this symbols: (+, *, -, /)\")\n",
    "\n",
    "\n",
    "\n",
    "### Asking for the second number\n",
    "\n",
    "checker = True\n",
    "while(checker and first != 'q' and my_operator != 'q' ):\n",
    "    try:\n",
    "        second = input(\"Please input the second number: \")\n",
    "        if(quit_checker(second)):\n",
    "            break\n",
    "        second = float(second)\n",
    "        if(my_operator == \"/\" and second==0):   #Division by zero case handling\n",
    "            print(\"Cannot divide by zero, please input another number\")\n",
    "        else:\n",
    "            checker = False\n",
    "    except ValueError:\n",
    "        print(\"Your input should be numeric only\")\n",
    "\n",
    "\n",
    "if(first != 'q' and second != 'q' and my_operator != 'q'):\n",
    "    import operator      #Using the operator library to make code more readable\n",
    "\n",
    "    ops = {\n",
    "        '+' : operator.add,\n",
    "        '-' : operator.sub,\n",
    "        '*' : operator.mul,\n",
    "        '/' : operator.truediv,\n",
    "    }\n",
    "\n",
    "    print(\"{} {} {} is equal to {}\".format(first, my_operator, second, ops[my_operator](first, second)))\n"
   ]
  },
  {
   "cell_type": "code",
   "execution_count": null,
   "id": "c1443287",
   "metadata": {},
   "outputs": [],
   "source": []
  }
 ],
 "metadata": {
  "kernelspec": {
   "display_name": "Python 3 (ipykernel)",
   "language": "python",
   "name": "python3"
  },
  "language_info": {
   "codemirror_mode": {
    "name": "ipython",
    "version": 3
   },
   "file_extension": ".py",
   "mimetype": "text/x-python",
   "name": "python",
   "nbconvert_exporter": "python",
   "pygments_lexer": "ipython3",
   "version": "3.9.12"
  }
 },
 "nbformat": 4,
 "nbformat_minor": 5
}
