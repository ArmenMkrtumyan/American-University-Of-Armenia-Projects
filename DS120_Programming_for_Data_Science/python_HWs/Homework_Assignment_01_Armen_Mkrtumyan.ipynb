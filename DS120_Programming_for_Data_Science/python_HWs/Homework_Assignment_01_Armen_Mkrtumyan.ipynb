{
 "cells": [
  {
   "cell_type": "markdown",
   "id": "1471fba6",
   "metadata": {},
   "source": [
    "## Your name - Armen Mkrtumyan"
   ]
  },
  {
   "cell_type": "markdown",
   "id": "d6c99d2b",
   "metadata": {},
   "source": [
    "### Problem 1. Create a vector \"list_1\" containing integers 1-5, letters A, B and C and a boolean value TRUE with this order of elements. After this, subset the array in a way that the respective new lists are obtained. \n",
    "#### a. [1, 2, 3, 4, 5]\n",
    "#### b. [True]\n",
    "#### c. [1, 3, 5, B, True]\n",
    "#### d. [C, 3]"
   ]
  },
  {
   "cell_type": "code",
   "execution_count": 1,
   "id": "1d9fa8fa",
   "metadata": {},
   "outputs": [
    {
     "name": "stdout",
     "output_type": "stream",
     "text": [
      "[1, 2, 3, 4, 5]\n",
      "[True]\n",
      "[1, 3, 5, 'B', True]\n",
      "['C', 3]\n"
     ]
    }
   ],
   "source": [
    "# Solution\n",
    "\n",
    "list_1 = [1, 2, 3, 4, 5, \"A\", \"B\", \"C\", True]\n",
    "\n",
    "print (list_1[:5])\n",
    "\n",
    "print (list_1[-1:])\n",
    "\n",
    "print (list_1[::2])\n",
    "\n",
    "print (list_1[7::-5])\n",
    "\n"
   ]
  },
  {
   "cell_type": "markdown",
   "id": "50c40220",
   "metadata": {},
   "source": [
    "### Problem 2. Given the list below, do the following exercises:\n",
    "#### a. check the length of the list\n",
    "#### b. use list functions to change the list into [10, 20, 20, 30, 40, [50, 60]]\n",
    "#### c. use list functions to change the list into [10, 20, 20, 30, 40, [50, 60], 70, 80]\n",
    "#### d. remove the two 20s in the list.\n",
    "#### e. reverse the list once inplace using list built-in functions and once with slicing operator."
   ]
  },
  {
   "cell_type": "code",
   "execution_count": 2,
   "id": "d5d44f31",
   "metadata": {},
   "outputs": [],
   "source": [
    "list_2 = [10, 20, 20, 30, 40]"
   ]
  },
  {
   "cell_type": "code",
   "execution_count": 3,
   "id": "ce8dc989",
   "metadata": {},
   "outputs": [
    {
     "name": "stdout",
     "output_type": "stream",
     "text": [
      "5\n",
      "[10, 20, 20, 30, 40, [50, 60]]\n",
      "[10, 20, 20, 30, 40, [50, 60], 70, 80]\n",
      "[10, 30, 40, [50, 60], 70, 80]\n",
      "[80, 70, [50, 60], 40, 30, 10]\n",
      "[10, 30, 40, [50, 60], 70, 80]\n"
     ]
    }
   ],
   "source": [
    "# Solution\n",
    "\n",
    "#a\n",
    "print(len(list_2))\n",
    "\n",
    "#b\n",
    "list_2.append([50,60])\n",
    "print(list_2)\n",
    "\n",
    "#c\n",
    "list_2.extend((70,80))\n",
    "print(list_2)\n",
    "\n",
    "#d\n",
    "while 20 in list_2:\n",
    "    list_2.remove(20)\n",
    "print(list_2)\n",
    "\n",
    "#e\n",
    "#ONE WAY\n",
    "list_2.reverse()\n",
    "print(list_2)\n",
    "#ANOTHER WAY\n",
    "list_2 = list_2[::-1]\n",
    "print(list_2)"
   ]
  },
  {
   "cell_type": "markdown",
   "id": "c75b5cd6",
   "metadata": {},
   "source": [
    "### Problem 3. Given the list below (it is a nested list), change the element \"80\" into \"100\"."
   ]
  },
  {
   "cell_type": "code",
   "execution_count": 4,
   "id": "5f7bd804",
   "metadata": {},
   "outputs": [],
   "source": [
    "list_3 = [10, [20, 30], [40, 50, [60, [70, [80], 90], 100]]]"
   ]
  },
  {
   "cell_type": "code",
   "execution_count": 5,
   "id": "06fb58b8",
   "metadata": {},
   "outputs": [
    {
     "name": "stdout",
     "output_type": "stream",
     "text": [
      "[10, [20, 30], [40, 50, [60, [70, [100], 90], 100]]]\n",
      "[10, [20, 30], [40, 50, [60, [70, [100], 90], 100]]]\n"
     ]
    }
   ],
   "source": [
    "# Solution \n",
    "      \n",
    "list_3[2][2][1][1][0] = 100\n",
    "print(list_3)\n",
    "\n",
    "\n",
    "list_3 = [10, [20, 30], [40, 50, [60, [70, [80], 90], 100]]]\n",
    "\n",
    "# An alternative solution using recursion that would go \n",
    "# inside arrays untill it finds 80 (It does for all the occurences of 80)\n",
    "def recursion(list_3):\n",
    "    for i in range(len(list_3)):\n",
    "        if list_3[i] == 80:\n",
    "            list_3[i] = 100;\n",
    "            #return list_3;      #By uncommenting this the program would find only 1 \"80\" inside the lists\n",
    "        if(type(list_3[i]) is list):\n",
    "            recursion(list_3[i])\n",
    "    return (list_3)\n",
    "print(recursion(list_3))\n",
    "\n"
   ]
  },
  {
   "cell_type": "markdown",
   "id": "06f769b4",
   "metadata": {},
   "source": [
    "### Problem 4. You have a list containing integers from 1 to 5 stored in a variable *list_4*. And we have another variable *list_orig* which is equal to our list. We want to repeat the list and obtain the following list *[1, 2, 3, 4, 5, 1, 2, 3, 4, 5]* in *list_4*. Modify the line of creation of *list_orig* variable, so that when we modify *list_4*, *list_orig* does not change and stores the original list."
   ]
  },
  {
   "cell_type": "code",
   "execution_count": 6,
   "id": "813f1866",
   "metadata": {},
   "outputs": [
    {
     "name": "stdout",
     "output_type": "stream",
     "text": [
      "[1, 2, 3, 4, 5, 1, 2, 3, 4, 5]\n",
      "[1, 2, 3, 4, 5]\n"
     ]
    }
   ],
   "source": [
    "list_4 = [1, 2, 3, 4, 5]\n",
    "list_orig = list_4.copy() \n",
    "list_4.extend((1,2,3,4,5))\n",
    "print(list_4)\n",
    "print(list_orig)"
   ]
  },
  {
   "cell_type": "markdown",
   "id": "44f24848",
   "metadata": {},
   "source": [
    "### Problem 5. You have a list given below stored in the variable *list_5*. Write a code that will interchange the first and last elements of the list. Make sure that the resulted (interchanged) list is now stored in the variable *list_5*."
   ]
  },
  {
   "cell_type": "code",
   "execution_count": 7,
   "id": "b9527ce2",
   "metadata": {},
   "outputs": [],
   "source": [
    "list_5 = [20, 30, 11, 45, 90, 80, 77]"
   ]
  },
  {
   "cell_type": "code",
   "execution_count": 8,
   "id": "3c64c86d",
   "metadata": {},
   "outputs": [
    {
     "name": "stdout",
     "output_type": "stream",
     "text": [
      "[77, 30, 11, 45, 90, 80, 20]\n"
     ]
    }
   ],
   "source": [
    "# Solution\n",
    "(list_5[0], list_5[-1]) = (list_5[-1], list_5[0])\n",
    "print(list_5)\n"
   ]
  },
  {
   "cell_type": "markdown",
   "id": "9a0d82d9",
   "metadata": {},
   "source": [
    "### Problem 6. Explore the *range()* function (use google) to get a list of even numbers from 50 to 100 both inclusively. Store the result in a variable, and make sure that the type of your object is *list*."
   ]
  },
  {
   "cell_type": "code",
   "execution_count": 9,
   "id": "145caa5f",
   "metadata": {},
   "outputs": [
    {
     "name": "stdout",
     "output_type": "stream",
     "text": [
      "[50, 52, 54, 56, 58, 60, 62, 64, 66, 68, 70, 72, 74, 76, 78, 80, 82, 84, 86, 88, 90, 92, 94, 96, 98, 100]\n"
     ]
    }
   ],
   "source": [
    "# Solution\n",
    "\n",
    "result = list(range(50,101,2))\n",
    "print(result)"
   ]
  },
  {
   "cell_type": "markdown",
   "id": "32659a9e",
   "metadata": {},
   "source": [
    "### Problem 7. Create a tuple with single item 50, then\n",
    "#### a. Add elements 50, 10, 20, 50, 50 into the tuple, so that the length of the tuple will be 6.\n",
    "#### b. Print the number of times 50 occurs in the tuple (you can use built-in functions).\n",
    "#### c. Create a new tuple where all the elements that are not equal to 50 are deleted.\n",
    "#### d. Using *set* data type, validate that the number of unique elements left in the new tuple is now 1. "
   ]
  },
  {
   "cell_type": "code",
   "execution_count": 10,
   "id": "3613db6c",
   "metadata": {},
   "outputs": [
    {
     "name": "stdout",
     "output_type": "stream",
     "text": [
      "4\n",
      "(50, 50, 50, 50)\n",
      "1\n"
     ]
    }
   ],
   "source": [
    "# Solution\n",
    "a = (50,)\n",
    "\n",
    "#a\n",
    "a = a + (50, 10, 20, 50, 50)\n",
    "\n",
    "#b\n",
    "print(a.count(50))\n",
    "\n",
    "#c\n",
    "b = []\n",
    "for i in a:\n",
    "    if i == 50:\n",
    "        b.append(i)\n",
    "b = tuple(b)\n",
    "print(b)\n",
    "\n",
    "#d\n",
    "b = set(b)\n",
    "print(len(b)) #Since the length of a set is one, then there was only 1 unique element in b"
   ]
  },
  {
   "cell_type": "markdown",
   "id": "1a4cb308",
   "metadata": {},
   "source": [
    "### Problem 8. Swap two tuples, so that what is stored in the *tuple_even* will be in *tuple_odd*, and what is stored in *tuple_odd* will be *tuple_even*. Do this with one line of code."
   ]
  },
  {
   "cell_type": "code",
   "execution_count": 11,
   "id": "0e055c32",
   "metadata": {},
   "outputs": [],
   "source": [
    "tuple_even = (11, 55)\n",
    "tuple_odd = (22, 44)"
   ]
  },
  {
   "cell_type": "code",
   "execution_count": 12,
   "id": "df7b47d6",
   "metadata": {},
   "outputs": [],
   "source": [
    "# Solution\n",
    "(tuple_even, tuple_odd) = (tuple_odd, tuple_even)"
   ]
  },
  {
   "cell_type": "markdown",
   "id": "6fb2f0b2",
   "metadata": {},
   "source": [
    "### Problem 9. Consider having your name stored in the variables named *my_first_name* and *my_second_name*  (modify the line below, so you have this). Now, using formatting of strings, create a new variable *intro*, so that when you print the variable *intro*, it will print a string saying \"Hello world, my name is YOUR NAME SURNAME\" (ex. \"Hello world, my name is Liana Harutyunyan\")."
   ]
  },
  {
   "cell_type": "code",
   "execution_count": 13,
   "id": "af211703",
   "metadata": {},
   "outputs": [],
   "source": [
    "my_first_name = \"Armen\"\n",
    "my_second_name = \"Mkrtumyan\""
   ]
  },
  {
   "cell_type": "code",
   "execution_count": 14,
   "id": "5f69bc3d",
   "metadata": {},
   "outputs": [
    {
     "name": "stdout",
     "output_type": "stream",
     "text": [
      "Hello world, my name is Armen Mkrtumyan\n"
     ]
    }
   ],
   "source": [
    "# Solution \n",
    "\n",
    "intro = \"Hello world, my name is {} {}\".format(my_first_name, my_second_name)\n",
    "print(intro)"
   ]
  },
  {
   "cell_type": "markdown",
   "id": "11dbd199",
   "metadata": {},
   "source": [
    "### Problem 10. You have a string *alphabet = \"abcdefghijklmnop\"*. \n",
    "#### a. Delete \"nop\" from the string. You can do this any way you want. Store it in the same variable.\n",
    "#### b. Delete the character at 2nd index (removing the letter \"c\" from the string)."
   ]
  },
  {
   "cell_type": "code",
   "execution_count": 15,
   "id": "9c8914a8",
   "metadata": {},
   "outputs": [],
   "source": [
    "alphabet = \"abcdefghijklmnop\""
   ]
  },
  {
   "cell_type": "code",
   "execution_count": 16,
   "id": "ba6cb876",
   "metadata": {},
   "outputs": [
    {
     "name": "stdout",
     "output_type": "stream",
     "text": [
      "abdefghijklm\n"
     ]
    }
   ],
   "source": [
    "# Solution \n",
    "\n",
    "#a\n",
    "alphabet = alphabet[:len(alphabet)-3]\n",
    "\n",
    "#b\n",
    "alphabet = alphabet[:2] + alphabet[3:]\n",
    "\n",
    "print(alphabet)"
   ]
  },
  {
   "cell_type": "markdown",
   "id": "d8887790",
   "metadata": {},
   "source": [
    "### Problem 11. You have a string *sent_1 = \"I want to do the homework\"*.\n",
    "#### a. Split sentence to get a list of all words [\"I\", \"want\", \"to\", \"do\", \"the\", \"homework\"]\n",
    "#### b. Make the last string from the list to be uppercase, so your list should look like [\"I\", \"want\", \"to\", \"do\", \"the\", \"HOMEWORK\"].\n",
    "#### c. Add \"don't\" string in the list at 1st index, your list at this point should be [\"I\", \"don't\", \"want\", \"to\", \"do\", \"the\", \"HOMEWORK\"]\n",
    "#### d. Join the list back into one string. (Hint: Google for *join* function)."
   ]
  },
  {
   "cell_type": "code",
   "execution_count": 17,
   "id": "7c82baad",
   "metadata": {},
   "outputs": [],
   "source": [
    "sent_1 = \"I want to do the homework\""
   ]
  },
  {
   "cell_type": "code",
   "execution_count": 18,
   "id": "553d7ca7",
   "metadata": {},
   "outputs": [
    {
     "name": "stdout",
     "output_type": "stream",
     "text": [
      "I don't want to do the HOMEWORK\n"
     ]
    }
   ],
   "source": [
    "# Solution \n",
    "\n",
    "#a\n",
    "list_1 = sent_1.split()\n",
    "\n",
    "#b\n",
    "list_1[-1] = list_1[-1].upper()\n",
    "\n",
    "#c\n",
    "list_1.insert(1, \"don't\")\n",
    "\n",
    "#d\n",
    "list_1 = ' '.join(list_1)\n",
    "\n",
    "print(list_1)\n"
   ]
  },
  {
   "cell_type": "markdown",
   "id": "50f70f85",
   "metadata": {},
   "source": [
    "### Problem 12. Given two sets below, return a new set of elements that are present in Set A or Set B, but not in both of them. You should get a set of 4 integers. Then replace 20 from the set to 120. "
   ]
  },
  {
   "cell_type": "code",
   "execution_count": 19,
   "id": "f81fad0e",
   "metadata": {},
   "outputs": [],
   "source": [
    "set_A = {10, 20, 30, 40, 50}\n",
    "set_B = {30, 40, 50, 60, 70}"
   ]
  },
  {
   "cell_type": "code",
   "execution_count": 20,
   "id": "43965a05",
   "metadata": {},
   "outputs": [
    {
     "name": "stdout",
     "output_type": "stream",
     "text": [
      "{20, 70, 10, 60}\n",
      "{70, 10, 60, 120}\n"
     ]
    }
   ],
   "source": [
    "# Solution \n",
    "set_C = set_A ^ set_B\n",
    "print(set_C)\n",
    "set_C.remove(20)\n",
    "set_C.add(120)\n",
    "print(set_C)  "
   ]
  },
  {
   "cell_type": "markdown",
   "id": "d9761917",
   "metadata": {},
   "source": [
    "### Problem 13. Find how many duplicate characters are there in the string.\n",
    "#### ex. \"Anna\" -> 1 (1 \"n\" is duplicate), \"chixuaxua\" -> 3 (1 \"x\", 1 \"u\", 1 \"a\" are duplicates)."
   ]
  },
  {
   "cell_type": "code",
   "execution_count": 21,
   "id": "d0da94e8",
   "metadata": {},
   "outputs": [],
   "source": [
    "str1 = \"Anna\"\n",
    "str2 = \"chixuaxua\""
   ]
  },
  {
   "cell_type": "code",
   "execution_count": 22,
   "id": "6fd83eed",
   "metadata": {},
   "outputs": [
    {
     "name": "stdout",
     "output_type": "stream",
     "text": [
      "1\n",
      "3\n"
     ]
    }
   ],
   "source": [
    "# Solution \n",
    "\n",
    "print(len(str1) - len(set(str1)))\n",
    "print(len(str2) - len(set(str2)))\n"
   ]
  },
  {
   "cell_type": "markdown",
   "id": "254ecf6c",
   "metadata": {},
   "source": [
    "### Problem 14. You have philosophers dictionary below. Note, you can have nested dictionaries as well, and this is an example of that. Update the dictionary with the following steps.\n",
    "#### a. Change the Pluto's children count from \"unknown\" to 0.\n",
    "#### b. Change the birth fields, so that \"384 BC\" becomes -384 integer, and the same with Pluto's birth. Modify the existing value, not just write = -384.\n"
   ]
  },
  {
   "cell_type": "code",
   "execution_count": 23,
   "id": "390fbf22",
   "metadata": {},
   "outputs": [],
   "source": [
    "philosophers = {\n",
    "    \"Aristotle\": {\"birth\": \"384 BC\", \n",
    "                  \"nationality\": \"greek\", \n",
    "                  \"children\": 2}, \n",
    "    \"Pluto\": {\"birth\": \"428 BC\", \n",
    "              \"nationality\": \"greek\", \n",
    "              \"children\": \"unknown\"}\n",
    "}"
   ]
  },
  {
   "cell_type": "code",
   "execution_count": 24,
   "id": "e9559c32",
   "metadata": {},
   "outputs": [
    {
     "data": {
      "text/plain": [
       "dict_values([{'birth': '384 BC', 'nationality': 'greek', 'children': 2}, {'birth': '428 BC', 'nationality': 'greek', 'children': 'unknown'}])"
      ]
     },
     "execution_count": 24,
     "metadata": {},
     "output_type": "execute_result"
    }
   ],
   "source": [
    "philosophers.values()"
   ]
  },
  {
   "cell_type": "code",
   "execution_count": 25,
   "id": "26c6b461",
   "metadata": {},
   "outputs": [
    {
     "name": "stdout",
     "output_type": "stream",
     "text": [
      "{'Aristotle': {'birth': -384, 'nationality': 'greek', 'children': 2}, 'Pluto': {'birth': -428, 'nationality': 'greek', 'children': 0}}\n"
     ]
    }
   ],
   "source": [
    "# Solution \n",
    "\n",
    "#a\n",
    "philosophers['Pluto']['children'] = 0\n",
    "\n",
    "#b\n",
    "philosophers['Aristotle']['birth'] = -1*int(philosophers['Aristotle']['birth'][:3])\n",
    "philosophers['Pluto']['birth'] = -1*int(philosophers['Pluto']['birth'][:3])\n",
    "print(philosophers)"
   ]
  },
  {
   "cell_type": "markdown",
   "id": "f9efafb4",
   "metadata": {},
   "source": [
    "### Problem 15. Given the dictionary of temperatures over month April. \n",
    "#### a. Report what was the temperature on 15th of April.\n",
    "#### b. Delete the key, value pair for 31st of April, because there has been a typo and April has only 30 days. \n",
    "#### c. Find the min and max temperatures happened in the month. (Hint. use values() and search for index() function and google for other functions if you need to)."
   ]
  },
  {
   "cell_type": "code",
   "execution_count": 26,
   "id": "2b8e1e26",
   "metadata": {},
   "outputs": [],
   "source": [
    "temperature_dict = {1: 13, \n",
    "                    2: 11, \n",
    "                    3: 12, \n",
    "                    4: 8, \n",
    "                    5: 4,\n",
    "                    6: 7,\n",
    "                    7: 10,\n",
    "                    8: 12,\n",
    "                    9: 10,\n",
    "                    10: 11,\n",
    "                    11: 3,\n",
    "                    12: 8,\n",
    "                    13: 10,\n",
    "                    14: 7,\n",
    "                    15: 10,\n",
    "                    16: 11, \n",
    "                    17: 12, \n",
    "                    18: 10,\n",
    "                    19: 13,\n",
    "                    20: 9,\n",
    "                    21: 10,\n",
    "                    22: 8,\n",
    "                    23: 8,\n",
    "                    24: 10,\n",
    "                    25: 10,\n",
    "                    26: 11,\n",
    "                    27: 10,\n",
    "                    28: 10,\n",
    "                    29: 7,\n",
    "                    30: 5, \n",
    "                    31: 4\n",
    "                   }"
   ]
  },
  {
   "cell_type": "code",
   "execution_count": 27,
   "id": "d70ae003",
   "metadata": {},
   "outputs": [
    {
     "name": "stdout",
     "output_type": "stream",
     "text": [
      "The 15th is:  10\n"
     ]
    },
    {
     "data": {
      "text/plain": [
       "4"
      ]
     },
     "execution_count": 27,
     "metadata": {},
     "output_type": "execute_result"
    }
   ],
   "source": [
    "# Solution \n",
    "\n",
    "#a\n",
    "for i in temperature_dict.keys():\n",
    "    if i == 15:\n",
    "        print(\"The 15th is: \", temperature_dict[i])\n",
    "\n",
    "#b\n",
    "temperature_dict.pop(31)\n",
    "\n"
   ]
  },
  {
   "cell_type": "code",
   "execution_count": 28,
   "id": "623c1800",
   "metadata": {},
   "outputs": [],
   "source": [
    "maximum = max(temperature_dict.values())\n",
    "minimum = min(temperature_dict.values())"
   ]
  },
  {
   "cell_type": "code",
   "execution_count": 29,
   "id": "579e49a7",
   "metadata": {},
   "outputs": [
    {
     "name": "stdout",
     "output_type": "stream",
     "text": [
      "13 3\n"
     ]
    }
   ],
   "source": [
    "print(maximum, minimum)"
   ]
  }
 ],
 "metadata": {
  "kernelspec": {
   "display_name": "Python 3 (ipykernel)",
   "language": "python",
   "name": "python3"
  },
  "language_info": {
   "codemirror_mode": {
    "name": "ipython",
    "version": 3
   },
   "file_extension": ".py",
   "mimetype": "text/x-python",
   "name": "python",
   "nbconvert_exporter": "python",
   "pygments_lexer": "ipython3",
   "version": "3.9.12"
  }
 },
 "nbformat": 4,
 "nbformat_minor": 5
}
