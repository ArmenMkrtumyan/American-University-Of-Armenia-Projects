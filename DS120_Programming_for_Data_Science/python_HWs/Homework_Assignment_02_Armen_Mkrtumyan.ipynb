{
 "cells": [
  {
   "cell_type": "markdown",
   "id": "e4abd400",
   "metadata": {},
   "source": [
    "## Your name - Armen Mkrtumyan\n",
    "\n",
    "### Whenever you write functions, make sure to test these functions on some examples afterwards."
   ]
  },
  {
   "cell_type": "markdown",
   "id": "6f08b2f3",
   "metadata": {},
   "source": [
    "## "
   ]
  },
  {
   "cell_type": "markdown",
   "id": "37efaf7b",
   "metadata": {},
   "source": [
    "### Problem 1. Write a code that given a percentage of a grade (integer), changes the grade into a letter grade: \n",
    "### Marks\n",
    "#### > 90 - A\n",
    "#### > 80 and <= 90 - B\n",
    "#### = 60 and <= 80 - C\n",
    "#### below 60 - D\n"
   ]
  },
  {
   "cell_type": "code",
   "execution_count": null,
   "id": "4147c77f",
   "metadata": {},
   "outputs": [],
   "source": [
    "# Solution\n",
    "grade = 65\n",
    "\n",
    "if (grade > 90):\n",
    "    grade = \"A\"\n",
    "elif (grade > 80):\n",
    "    grade = \"B\"\n",
    "elif (grade >= 60):\n",
    "    grade = \"C\"\n",
    "else:\n",
    "    grade = \"D\"\n",
    "print (grade)\n",
    "\n",
    "\n"
   ]
  },
  {
   "cell_type": "markdown",
   "id": "87273a9d",
   "metadata": {},
   "source": [
    "### Problem 2. Create a Python function to check whether the given number is three digit number or not (Output True or False). Check your function with multiple numbers."
   ]
  },
  {
   "cell_type": "code",
   "execution_count": null,
   "id": "3d269b56",
   "metadata": {},
   "outputs": [],
   "source": [
    "# Solution \n",
    "\n",
    "def is_three_digit(number):\n",
    "    return (len(str(number)) == 3)"
   ]
  },
  {
   "cell_type": "code",
   "execution_count": null,
   "id": "2c028055",
   "metadata": {},
   "outputs": [],
   "source": [
    "print(is_three_digit(123))\n",
    "print(is_three_digit(1000))"
   ]
  },
  {
   "cell_type": "markdown",
   "id": "8ce2547b",
   "metadata": {},
   "source": [
    "### Problem 3. Write a python function that accepts integer *n* as an argument, and prints the following pattern, where the accepted integer is the length of the asteriks in the last line. For *n = 5*, the function should print:"
   ]
  },
  {
   "cell_type": "code",
   "execution_count": null,
   "id": "7c18aa39",
   "metadata": {},
   "outputs": [],
   "source": [
    "* \n",
    "* * \n",
    "* * * \n",
    "* * * * \n",
    "* * * * *"
   ]
  },
  {
   "cell_type": "code",
   "execution_count": null,
   "id": "7ee74d16",
   "metadata": {},
   "outputs": [],
   "source": [
    "# Solution\n",
    "def triangle(n):\n",
    "    for i in range(1,n+1):\n",
    "        print (i * \"* \")\n",
    "    "
   ]
  },
  {
   "cell_type": "code",
   "execution_count": null,
   "id": "03962a48",
   "metadata": {},
   "outputs": [],
   "source": [
    "n = 5\n",
    "triangle(n)"
   ]
  },
  {
   "cell_type": "markdown",
   "id": "43ae0537",
   "metadata": {},
   "source": [
    "### Problem 4. Create a list using list comprehension syntax to produce the list [1, 2, 4, 8, 16, 64, 128, 256] (Note that 32 is missing, you can use an *if*)."
   ]
  },
  {
   "cell_type": "code",
   "execution_count": null,
   "id": "2242beea",
   "metadata": {},
   "outputs": [],
   "source": [
    "# Solution \n",
    "\n",
    "my_list = [2**x for x in range(0,9) if x != 5]\n",
    "my_list"
   ]
  },
  {
   "cell_type": "markdown",
   "id": "fa619dce",
   "metadata": {},
   "source": [
    "### Problem 5. Write a Python function, *is_multiple(n, m)*, that takes two integer values and returns True if n is a multiple of m, and False otherwise."
   ]
  },
  {
   "cell_type": "code",
   "execution_count": null,
   "id": "07c6ee8e",
   "metadata": {},
   "outputs": [],
   "source": [
    "# Solution\n",
    "\n",
    "def is_multiple(n, m):\n",
    "    return (m%n == 0)\n",
    "is_multiple(2,8)"
   ]
  },
  {
   "cell_type": "markdown",
   "id": "2f20ec00",
   "metadata": {},
   "source": [
    "### Problem 6. Write a Python function, is_even(k), that takes an integer value and returns True if k is even, and False otherwise. However, your function cannot use the multiplication, modulo, or division operators."
   ]
  },
  {
   "cell_type": "code",
   "execution_count": null,
   "id": "f82f7dd2",
   "metadata": {},
   "outputs": [],
   "source": [
    "# Solution \n",
    "\n",
    "def is_even(k):\n",
    "    if (k > 0):\n",
    "        while (k > 1):\n",
    "            k -= 2\n",
    "        return (k == 0)\n",
    "    else:\n",
    "        while (k<-1):\n",
    "            k += 2\n",
    "        return (k==0)\n",
    "    return (1)\n",
    "print(is_even(421344))"
   ]
  },
  {
   "cell_type": "markdown",
   "id": "5576882d",
   "metadata": {},
   "source": [
    "### Problem 7. Write a short Python function, minmax(data), that takes a list as an argument, and returns the smallest and largest numbers, in the form of a tuple of length two. Do not use the built-in functions min or max in implementing your solution."
   ]
  },
  {
   "cell_type": "code",
   "execution_count": null,
   "id": "7e9f37be",
   "metadata": {},
   "outputs": [],
   "source": [
    "# Solution \n",
    "\n",
    "def minmax(data):\n",
    "    minimum = data[0];\n",
    "    maximum = data[0];\n",
    "    for i in data:\n",
    "        if (i > maximum):\n",
    "            maximum = i\n",
    "        if (i < minimum):\n",
    "            minimum = i\n",
    "    return ((minimum, maximum))\n",
    "print(minmax([5,0,0,-10,1]))\n"
   ]
  },
  {
   "cell_type": "markdown",
   "id": "4089d2ee",
   "metadata": {},
   "source": [
    "### Problem 8. Write two functions for computing the $n$th Harmonic number, $H_n = \\sum_{i=1}^{n} 1/i$\n",
    "#### a. one function using a loop.\n",
    "#### b. one function using recursion."
   ]
  },
  {
   "cell_type": "code",
   "execution_count": null,
   "id": "71dec072",
   "metadata": {},
   "outputs": [],
   "source": [
    "# Solution\n",
    "def harmonic_number(n):\n",
    "    H_n = 0;\n",
    "    for i in range(1,n+1):\n",
    "        H_n += (1/i)\n",
    "    return (H_n)"
   ]
  },
  {
   "cell_type": "code",
   "execution_count": null,
   "id": "2f2f9076",
   "metadata": {},
   "outputs": [],
   "source": [
    "# Solution\n",
    "def harmonic_number_rec(n):\n",
    "    if (n == 1):\n",
    "        return 1\n",
    "    return (1/n + (harmonic_number_rec(n-1)))\n",
    "\n",
    "print (harmonic_number(100), harmonic_number_rec(100))\n",
    "    "
   ]
  },
  {
   "cell_type": "markdown",
   "id": "d44d1319",
   "metadata": {},
   "source": [
    "### Problem 9. Write a function that computes the maximum number in the list using a recursion, and do not use built-in function *max* and also do not use loops."
   ]
  },
  {
   "cell_type": "code",
   "execution_count": null,
   "id": "e40c4df7",
   "metadata": {},
   "outputs": [],
   "source": [
    "# Solution\n",
    "\n",
    "def find_max(my_list):\n",
    "    if(len(my_list) == 2):\n",
    "        return (my_list[0] if my_list[0]>my_list[1] else my_list[1]);\n",
    "    new_list = find_max(my_list[1:])\n",
    "    return (new_list if new_list>my_list[0] else my_list[0])"
   ]
  },
  {
   "cell_type": "code",
   "execution_count": null,
   "id": "aa9cbcf9",
   "metadata": {},
   "outputs": [],
   "source": [
    "print(find_max([0,2,0,3245,1232,-23423, 10, 8]))"
   ]
  },
  {
   "cell_type": "markdown",
   "id": "3f53a1cb",
   "metadata": {},
   "source": [
    "### Problem 10. Write a function that will get arbitrary number of arguments (integers) and will calculate the mean of this numbers. Do not use any built in *mean* or *sum* functions."
   ]
  },
  {
   "cell_type": "code",
   "execution_count": null,
   "id": "d39eb311",
   "metadata": {},
   "outputs": [],
   "source": [
    "# Solution \n",
    "\n",
    "def cal_mean(*args):\n",
    "    summ = 0;\n",
    "    length = 0\n",
    "    for i in args:\n",
    "        length += 1\n",
    "        summ += i\n",
    "    return (summ/length)\n",
    "cal_mean(2,2,4,2)\n"
   ]
  },
  {
   "cell_type": "markdown",
   "id": "7b796e29",
   "metadata": {},
   "source": [
    "### Problem 11. Write a lambda function *mod* that takes as an argument *x* and returns the absolute value of the integer. Do not use built in function *abs*."
   ]
  },
  {
   "cell_type": "code",
   "execution_count": null,
   "id": "c68e7409",
   "metadata": {},
   "outputs": [],
   "source": [
    "# Solution \n",
    "\n",
    "(lambda mod: mod if mod > 0 else mod*-1)(1)\n"
   ]
  },
  {
   "cell_type": "markdown",
   "id": "a3040273",
   "metadata": {},
   "source": [
    "### Problem 12. Flip key-value pairs in a dictionary using dict comprehension. Example: {\"Anna\":10, \"Bob\":20, \"Chris\":30} -----> {10: \"Anna\", 20: \"Bob\", 30: \"Chris\"}"
   ]
  },
  {
   "cell_type": "code",
   "execution_count": null,
   "id": "7a0b32b4",
   "metadata": {},
   "outputs": [],
   "source": [
    "# Solution \n",
    "\n",
    "dictionary = {\"Anna\":10, \"Bob\":20, \"Chris\":30}\n",
    "dict_variable = {value:key for (key,value) in dictionary.items()}\n",
    "print(dict_variable)"
   ]
  }
 ],
 "metadata": {
  "kernelspec": {
   "display_name": "Python 3 (ipykernel)",
   "language": "python",
   "name": "python3"
  },
  "language_info": {
   "codemirror_mode": {
    "name": "ipython",
    "version": 3
   },
   "file_extension": ".py",
   "mimetype": "text/x-python",
   "name": "python",
   "nbconvert_exporter": "python",
   "pygments_lexer": "ipython3",
   "version": "3.9.12"
  }
 },
 "nbformat": 4,
 "nbformat_minor": 5
}
