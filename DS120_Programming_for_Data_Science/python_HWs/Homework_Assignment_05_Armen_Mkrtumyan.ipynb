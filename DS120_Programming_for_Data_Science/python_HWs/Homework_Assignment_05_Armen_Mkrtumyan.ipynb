{
 "cells": [
  {
   "cell_type": "markdown",
   "id": "f307865d",
   "metadata": {},
   "source": [
    "# Write each (a), (b)... of each exercise in a separate code cell, so that it is easier to check. Also specify by a comment, which point (a), (b) you are solving."
   ]
  },
  {
   "cell_type": "markdown",
   "id": "2326364a",
   "metadata": {},
   "source": [
    "## Your name - Armen Mkrtumyan"
   ]
  },
  {
   "cell_type": "markdown",
   "id": "9f593763",
   "metadata": {},
   "source": [
    "### Exercise 0 (1 point). Import the pandas and numpy packages. "
   ]
  },
  {
   "cell_type": "code",
   "execution_count": null,
   "id": "67a350b2",
   "metadata": {},
   "outputs": [],
   "source": [
    "import pandas as pd\n",
    "import numpy as np"
   ]
  },
  {
   "cell_type": "markdown",
   "id": "0c95c1ff",
   "metadata": {},
   "source": [
    "### Exercise 1 (12 points). Create pandas series with following steps.\n",
    "### a. Create a numpy array containing integers from 11 to 16 both inclusive.\n",
    "### b. Create a pandas series with the array created in (a).\n",
    "### c. Change the indices of the series created in (b) to \"a\", \"b\", \"c\", \"d\", \"e\", \"f\".\n",
    "### d. Subset the series to have new series with only values 12, 13, 14. "
   ]
  },
  {
   "cell_type": "markdown",
   "id": "b463db1e",
   "metadata": {},
   "source": [
    "### a. Create a numpy array containing integers from 11 to 16 both inclusive.\n"
   ]
  },
  {
   "cell_type": "code",
   "execution_count": null,
   "id": "70f1d659",
   "metadata": {},
   "outputs": [],
   "source": [
    "# Solution \n",
    "np_arr = np.arange(11,17)\n",
    "print(np_arr)"
   ]
  },
  {
   "cell_type": "markdown",
   "id": "81216ffe",
   "metadata": {},
   "source": [
    "### b. Create a pandas series with the array created in (a)."
   ]
  },
  {
   "cell_type": "code",
   "execution_count": null,
   "id": "ce1aaaba",
   "metadata": {},
   "outputs": [],
   "source": [
    "series = pd.Series(np_arr)\n",
    "print(series)"
   ]
  },
  {
   "cell_type": "markdown",
   "id": "5514d8fc",
   "metadata": {},
   "source": [
    "### c. Change the indices of the series created in (b) to \"a\", \"b\", \"c\", \"d\", \"e\", \"f\"."
   ]
  },
  {
   "cell_type": "code",
   "execution_count": null,
   "id": "dac69bd2",
   "metadata": {},
   "outputs": [],
   "source": [
    "series.index = [\"a\", \"b\", \"c\", \"d\", \"e\", \"f\"]\n",
    "print(series)"
   ]
  },
  {
   "cell_type": "markdown",
   "id": "3d1c912f",
   "metadata": {},
   "source": [
    "### d. Subset the series to have new series with only values 12, 13, 14. "
   ]
  },
  {
   "cell_type": "code",
   "execution_count": null,
   "id": "98bdff1e",
   "metadata": {},
   "outputs": [],
   "source": [
    "sub_series = series[(series > 11) & (series < 15)]\n",
    "print(sub_series)"
   ]
  },
  {
   "cell_type": "markdown",
   "id": "774ce5d1",
   "metadata": {},
   "source": [
    "### Exercise 2 (12 points). \n",
    "### a. Create a dataframe with the given dictionary and indices [3, 0, 2, 1].\n",
    "### b. Sort the dataframe by the index. Do it inplace.\n",
    "### c. Change the NaN value to be 18. \n",
    "### d. Change the age column, so that the values in the column are divided by 2. Make sure the results are integers. "
   ]
  },
  {
   "cell_type": "code",
   "execution_count": null,
   "id": "7857c0d3",
   "metadata": {},
   "outputs": [],
   "source": [
    "dictionary = {'name': ['Anna', 'Bob', 'Jane', \"Josh\"],\n",
    "              'age' : [22, 30, 24, None],\n",
    "              'occ' : ['engineer', 'doctor', 'accountant', 'programmer']}"
   ]
  },
  {
   "cell_type": "markdown",
   "id": "0e64bc59",
   "metadata": {},
   "source": [
    "### a. Create a dataframe with the given dictionary and indices [3, 0, 2, 1]."
   ]
  },
  {
   "cell_type": "code",
   "execution_count": null,
   "id": "6d0a578e",
   "metadata": {},
   "outputs": [],
   "source": [
    "# Solution \n",
    "\n",
    "df = pd.DataFrame(data = dictionary, index = [3, 0, 2, 1])\n",
    "print(df)"
   ]
  },
  {
   "cell_type": "markdown",
   "id": "b445e1ea",
   "metadata": {},
   "source": [
    "### b. Sort the dataframe by the index. Do it inplace."
   ]
  },
  {
   "cell_type": "code",
   "execution_count": null,
   "id": "06ad6987",
   "metadata": {},
   "outputs": [],
   "source": [
    "df.sort_index(inplace=True)\n",
    "print(df)"
   ]
  },
  {
   "cell_type": "markdown",
   "id": "9b1c3bff",
   "metadata": {},
   "source": [
    "### c. Change the NaN value to be 18. "
   ]
  },
  {
   "cell_type": "code",
   "execution_count": null,
   "id": "5f134f7f",
   "metadata": {},
   "outputs": [],
   "source": [
    "df.fillna(18, inplace=True)\n",
    "print(df)"
   ]
  },
  {
   "cell_type": "markdown",
   "id": "a247425a",
   "metadata": {},
   "source": [
    "### d. Change the age column, so that the values in the column are divided by 2. Make sure the results are integers. "
   ]
  },
  {
   "cell_type": "code",
   "execution_count": null,
   "id": "11827395",
   "metadata": {},
   "outputs": [],
   "source": [
    "df['age'] = df['age'].apply(lambda x: int(x / 2)) #the results are integers because we converted them with int()\n",
    "print(df)"
   ]
  },
  {
   "cell_type": "markdown",
   "id": "f8d0ba92",
   "metadata": {},
   "source": [
    "### Exercise 3 (40 points). \n",
    "### a. Create a dataframe from the dictionary. \n",
    "### b. Set the \"origin\" column as index of the dataframe. \n",
    "### c. Create a new \"data_subset\" from the original dataframe, that is subset of the original dataframe including only columns *company* and *death*.\n",
    "### d. Select the 'battles', 'size' and 'veterans' columns from Florida and Iowa (you can just subset the data, no need to create a new dataframe - no need to assign it to new variable)\n",
    "### e. Select the rows 7 to 10 and columns 6 to 8. \n",
    "### f. Select all rows after sixth row and all columns.\n",
    "### g. Subset dataframe to have all rows that have size < 1000.\n",
    "### h. Select all the *regiments* not named \"Scouts\" and having *armored* to be 1.\n",
    "### i. Select the rows called Alaska and Arizona.\n",
    "### j. Plot a scatterplot graph, where x is the *deaths*, and y is *size* of the army. Have x-labels, y-labels, and title. "
   ]
  },
  {
   "cell_type": "code",
   "execution_count": null,
   "id": "0f7bfc02",
   "metadata": {},
   "outputs": [],
   "source": [
    "raw_data = {'regiment': ['Nighthawks', 'Nighthawks', 'Nighthawks', 'Nighthawks', 'Dragoons', 'Dragoons', 'Dragoons', 'Dragoons', 'Scouts', 'Scouts', 'Scouts', 'Scouts'],\n",
    "            'company': ['1st', '1st', '2nd', '2nd', '1st', '1st', '2nd', '2nd','1st', '1st', '2nd', '2nd'],\n",
    "            'deaths': [523, 52, 25, 616, 43, 234, 523, 62, 62, 73, 37, 35],\n",
    "            'battles': [5, 42, 2, 2, 4, 7, 8, 3, 4, 7, 8, 9],\n",
    "            'size': [1045, 957, 1099, 1400, 1592, 1006, 987, 849, 973, 1005, 1099, 1523],\n",
    "            'veterans': [1, 5, 62, 26, 73, 37, 949, 48, 48, 435, 63, 345],\n",
    "            'readiness': [1, 2, 3, 3, 2, 1, 2, 3, 2, 1, 2, 3],\n",
    "            'armored': [1, 0, 1, 1, 0, 1, 0, 1, 0, 0, 1, 1],\n",
    "            'deserters': [4, 24, 31, 2, 3, 4, 24, 31, 2, 3, 2, 3],\n",
    "            'origin': ['Arizona', 'California', 'Texas', 'Florida', 'Maine', 'Iowa', 'Alaska', 'Washington', 'Oregon', 'Wyoming', 'Louisana', 'Georgia']}\n"
   ]
  },
  {
   "cell_type": "markdown",
   "id": "567d5d6f",
   "metadata": {},
   "source": [
    "### a. Create a dataframe from the dictionary. \n"
   ]
  },
  {
   "cell_type": "code",
   "execution_count": null,
   "id": "0152cb33",
   "metadata": {},
   "outputs": [],
   "source": [
    "# Solution \n",
    "\n",
    "df = pd.DataFrame(raw_data)\n",
    "print(df)"
   ]
  },
  {
   "cell_type": "markdown",
   "id": "8e456612",
   "metadata": {},
   "source": [
    "### b. Set the \"origin\" column as index of the dataframe. \n"
   ]
  },
  {
   "cell_type": "code",
   "execution_count": null,
   "id": "466d2abd",
   "metadata": {},
   "outputs": [],
   "source": [
    "df.set_index('origin', inplace=True)\n",
    "print(df)"
   ]
  },
  {
   "cell_type": "markdown",
   "id": "6354bd29",
   "metadata": {},
   "source": [
    "### c. Create a new \"data_subset\" from the original dataframe, that is subset of the original dataframe including only columns *company* and *death*.\n"
   ]
  },
  {
   "cell_type": "code",
   "execution_count": null,
   "id": "d47e2292",
   "metadata": {},
   "outputs": [],
   "source": [
    "data_subset = df[['company', 'deaths']]\n",
    "print(data_subset)"
   ]
  },
  {
   "cell_type": "markdown",
   "id": "3bc97aaa",
   "metadata": {},
   "source": [
    "### d. Select the 'battles', 'size' and 'veterans' columns from Florida and Iowa (you can just subset the data, no need to create a new dataframe - no need to assign it to new variable)\n"
   ]
  },
  {
   "cell_type": "code",
   "execution_count": null,
   "id": "d94fb00c",
   "metadata": {},
   "outputs": [],
   "source": [
    "df.loc[['Florida', 'Iowa'], 'battles':'veterans']"
   ]
  },
  {
   "cell_type": "markdown",
   "id": "3320d6ba",
   "metadata": {},
   "source": [
    "### e. Select the rows 7 to 10 and columns 6 to 8. \n"
   ]
  },
  {
   "cell_type": "code",
   "execution_count": null,
   "id": "6c60fae2",
   "metadata": {},
   "outputs": [],
   "source": [
    "df.iloc[7:11, 6:9]   ##I understand they should be included right?, if not, 11 should be 10 and 9 should be 8"
   ]
  },
  {
   "cell_type": "markdown",
   "id": "1268e7bc",
   "metadata": {},
   "source": [
    "### f. Select all rows after sixth row and all columns.\n"
   ]
  },
  {
   "cell_type": "code",
   "execution_count": null,
   "id": "91a541ba",
   "metadata": {},
   "outputs": [],
   "source": [
    "df.iloc[7:, :]"
   ]
  },
  {
   "cell_type": "markdown",
   "id": "71d522fd",
   "metadata": {},
   "source": [
    "### g. Subset dataframe to have all rows that have size < 1000.\n"
   ]
  },
  {
   "cell_type": "code",
   "execution_count": null,
   "id": "72b067ac",
   "metadata": {},
   "outputs": [],
   "source": [
    "df[df['size'] < 1000]"
   ]
  },
  {
   "cell_type": "markdown",
   "id": "4c5f7c67",
   "metadata": {},
   "source": [
    "### h Select all the regiments not named \"Scouts\" and having armored to be 1."
   ]
  },
  {
   "cell_type": "code",
   "execution_count": null,
   "id": "effffb8d",
   "metadata": {},
   "outputs": [],
   "source": [
    "df[~(df['regiment'] == \"Scouts\") & (df['armored'] == 1)]"
   ]
  },
  {
   "cell_type": "markdown",
   "id": "46750a97",
   "metadata": {},
   "source": [
    "### i. Select the rows called Alaska and Arizona.\n"
   ]
  },
  {
   "cell_type": "code",
   "execution_count": null,
   "id": "d07075f0",
   "metadata": {},
   "outputs": [],
   "source": [
    "df.loc[['Alaska', 'Arizona']]"
   ]
  },
  {
   "cell_type": "markdown",
   "id": "78ee09dd",
   "metadata": {},
   "source": [
    "### j. Plot a scatterplot graph, where x is the *deaths*, and y is *size* of the army. Have x-labels, y-labels, and title. "
   ]
  },
  {
   "cell_type": "code",
   "execution_count": null,
   "id": "2b93719b",
   "metadata": {},
   "outputs": [],
   "source": [
    "import matplotlib.pyplot as plt\n",
    "x = df['deaths']\n",
    "y = df['size']\n",
    "plt.xlabel(\"deaths\")\n",
    "plt.ylabel(\"size\")\n",
    "plt.title(\"size of the army given deaths\")\n",
    "plt.scatter(x, y)\n",
    "plt.show()"
   ]
  },
  {
   "cell_type": "markdown",
   "id": "cc7b022e",
   "metadata": {},
   "source": [
    "### Exercise 4 (35 points).\n",
    "### a. Read the *occupation.csv*, note that it is not comma-separated file, but is \"|\" separated. You need to specify this with an argument. \n",
    "### b. State how many observations and features the dataset has.  \n",
    "### c. What is the mean age per occupation (hint: you need groupby). \n",
    "### d. Calculate how many Men and how many Women are there in the dataset. \n",
    "### e. Change the \"M\" value of *gender* column to 0, and \"F\" value of *gender* column to 1. Use *apply*. \n",
    "### f. For each occupation, what are the minimum and maximum ages. \n",
    "### g. Convert the occupation column to be uppercase. \n",
    "### h. For each occupation and gender, calculate the mean, min and max ages. "
   ]
  },
  {
   "cell_type": "markdown",
   "id": "7d0c55dc",
   "metadata": {},
   "source": [
    "### a. Read the *occupation.csv*, note that it is not comma-separated file, but is \"|\" separated. You need to specify this with an argument. "
   ]
  },
  {
   "cell_type": "code",
   "execution_count": null,
   "id": "372ffe76",
   "metadata": {},
   "outputs": [],
   "source": [
    "df = pd.read_csv('occupation.csv', sep = \"|\")"
   ]
  },
  {
   "cell_type": "markdown",
   "id": "bc52547c",
   "metadata": {},
   "source": [
    "### b. State how many observations and features the dataset has.  \n"
   ]
  },
  {
   "cell_type": "code",
   "execution_count": null,
   "id": "706c36fa",
   "metadata": {},
   "outputs": [],
   "source": [
    "print(df.shape)\n",
    "# 943 observations, 5 features"
   ]
  },
  {
   "cell_type": "markdown",
   "id": "4c78af05",
   "metadata": {},
   "source": [
    "### c. What is the mean age per occupation (hint: you need groupby). "
   ]
  },
  {
   "cell_type": "code",
   "execution_count": null,
   "id": "4c7f0611",
   "metadata": {},
   "outputs": [],
   "source": [
    "df.groupby(by = \"occupation\")['age'].mean()"
   ]
  },
  {
   "cell_type": "markdown",
   "id": "9cbf24ab",
   "metadata": {},
   "source": [
    "### d. Calculate how many Men and how many Women are there in the dataset. \n"
   ]
  },
  {
   "cell_type": "code",
   "execution_count": null,
   "id": "12cc8944",
   "metadata": {},
   "outputs": [],
   "source": [
    "df['gender'].value_counts()"
   ]
  },
  {
   "cell_type": "markdown",
   "id": "11e7735d",
   "metadata": {},
   "source": [
    "### e. Change the \"M\" value of *gender* column to 0, and \"F\" value of *gender* column to 1. Use *apply*. "
   ]
  },
  {
   "cell_type": "code",
   "execution_count": null,
   "id": "00e47dfc",
   "metadata": {},
   "outputs": [],
   "source": [
    "df['gender'] = df['gender'].apply(lambda letter: 0 if letter.lower() == 'm' else 1)\n",
    "print(df['gender'])"
   ]
  },
  {
   "cell_type": "markdown",
   "id": "95b7960b",
   "metadata": {},
   "source": [
    "### f. For each occupation, what are the minimum and maximum ages. "
   ]
  },
  {
   "cell_type": "markdown",
   "id": "a5455fb6",
   "metadata": {},
   "source": [
    "#### minimum age"
   ]
  },
  {
   "cell_type": "code",
   "execution_count": null,
   "id": "eec2d918",
   "metadata": {},
   "outputs": [],
   "source": [
    "print(df.groupby('occupation')['age'].min())"
   ]
  },
  {
   "cell_type": "markdown",
   "id": "c16f8e36",
   "metadata": {},
   "source": [
    "#### maximum age"
   ]
  },
  {
   "cell_type": "code",
   "execution_count": null,
   "id": "d7d7e9ce",
   "metadata": {},
   "outputs": [],
   "source": [
    "print(df.groupby('occupation')['age'].max())"
   ]
  },
  {
   "cell_type": "markdown",
   "id": "95b5bee1",
   "metadata": {},
   "source": [
    "### g. Convert the occupation column to be uppercase. "
   ]
  },
  {
   "cell_type": "code",
   "execution_count": null,
   "id": "c7ab19b4",
   "metadata": {},
   "outputs": [],
   "source": [
    "df['occupation'] = df['occupation'].apply(lambda x: x.upper())\n",
    "print(df['occupation'])"
   ]
  },
  {
   "cell_type": "markdown",
   "id": "382ad7c5",
   "metadata": {},
   "source": [
    "### h. For each occupation and gender, calculate the mean, min and max ages. "
   ]
  },
  {
   "cell_type": "code",
   "execution_count": null,
   "id": "4e5d0f95",
   "metadata": {},
   "outputs": [],
   "source": [
    "mins = df.groupby(['occupation', 'gender'])['age'].min().rename(\"Minimum ages\")   #Minimums\n",
    "maxs = df.groupby(['occupation', 'gender'])['age'].max().rename(\"Maximum ages\")   #Maximums\n",
    "means = df.groupby(['occupation', 'gender'])['age'].mean().rename(\"Mean ages\")    #Means\n",
    "pd.concat([mins, maxs, means], axis=1, names=['minimums', 'maximums', 'means']) #Concatinating them for a nicer output"
   ]
  }
 ],
 "metadata": {
  "kernelspec": {
   "display_name": "Python 3 (ipykernel)",
   "language": "python",
   "name": "python3"
  },
  "language_info": {
   "codemirror_mode": {
    "name": "ipython",
    "version": 3
   },
   "file_extension": ".py",
   "mimetype": "text/x-python",
   "name": "python",
   "nbconvert_exporter": "python",
   "pygments_lexer": "ipython3",
   "version": "3.9.12"
  }
 },
 "nbformat": 4,
 "nbformat_minor": 5
}
