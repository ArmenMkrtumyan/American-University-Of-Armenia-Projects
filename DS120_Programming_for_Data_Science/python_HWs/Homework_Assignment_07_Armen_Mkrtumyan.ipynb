{
 "cells": [
  {
   "cell_type": "markdown",
   "id": "a1eba9d2",
   "metadata": {},
   "source": [
    "### (105 points)\n",
    "### Your name - Armen Mkrtumyan"
   ]
  },
  {
   "cell_type": "markdown",
   "id": "a725dea1",
   "metadata": {},
   "source": [
    "### 1 (10 points). Create class $Vector$, that represents the Euclidean coordinate system. The class should have $x$, $y$, $z$ values. Have two methods $norm$ and $distance$. The first should calculate the norm of the vector (||v||), the second should calculate the distance between this and other Vector. It should get the second Vector instance as an argument. Create two instances from this class. Calculate the norms of vectors, and the distance from each other using your methods. "
   ]
  },
  {
   "cell_type": "code",
   "execution_count": 63,
   "id": "3d00d298",
   "metadata": {},
   "outputs": [],
   "source": [
    "class Vector:\n",
    "    def __init__(self, x, y, z):\n",
    "        self.x = x\n",
    "        self.y = y\n",
    "        self.z = z\n",
    "    def norm(self):\n",
    "        norm_v = (self.x ** 2 + self.y ** 2 + self.z ** 2)**(1/2)\n",
    "        return (norm_v)\n",
    "    def distance(self, other):\n",
    "        distance = ((self.x - other.x)**2 + (self.y - other.y)**2 + (self.z - other.z)**2)**(1/2)\n",
    "        return (distance)"
   ]
  },
  {
   "cell_type": "code",
   "execution_count": 65,
   "id": "44938215",
   "metadata": {},
   "outputs": [
    {
     "name": "stdout",
     "output_type": "stream",
     "text": [
      "Norm of first vector is: 7.483314773547883\n",
      "Norm of second vector is: 8.831760866327848\n",
      "Distance between to vectors is: 3.7416573867739413\n"
     ]
    }
   ],
   "source": [
    "vector_a = Vector(2,4,6)\n",
    "vector_b = Vector(5,2,7)\n",
    "\n",
    "print(\"Norm of first vector is: \" + str(vector_a.norm()))\n",
    "print(\"Norm of second vector is: \" + str(vector_b.norm()))\n",
    "print(\"Distance between to vectors is: \" + str(vector_a.distance(vector_b)))"
   ]
  },
  {
   "cell_type": "markdown",
   "id": "502bf609",
   "metadata": {},
   "source": [
    "### 2 (15 points). a. Create classes $Rectangle$ (2 sides as attributes), $Square$ (1 side as attribute), $Triangle$  (3 sides as attributes), $Circle$. For all the classes implement $area$ method, that will calculate the area of the object. Then create instances from all shapes, and call the area method for all. "
   ]
  },
  {
   "cell_type": "markdown",
   "id": "bf281f32",
   "metadata": {},
   "source": [
    " ### b. In the $Triangle$ class from above, in the constructor (in $init$) method add a validation step. Check that for all the slides - the sum of the length of the two sides of a triangle is greater than the length of the third side. If this condition is satisfied for all sides, only then make the triangles attributes to be equal to this sides, otherwise print \"The sizes are not correct!\"."
   ]
  },
  {
   "cell_type": "code",
   "execution_count": 77,
   "id": "1fc416e0",
   "metadata": {},
   "outputs": [],
   "source": [
    "class Rectangle:\n",
    "    def __init__(self, side_1, side_2):\n",
    "        self.side_1 = side_1\n",
    "        self.side_2 = side_2\n",
    "    def area(self):\n",
    "        rect_area = self.side_1 * self.side_2\n",
    "        return(rect_area)\n",
    "class Square:\n",
    "    def __init__(self, side):\n",
    "        self.side = side\n",
    "    def area(self):\n",
    "        sq_area = self.side ** 2\n",
    "        return(sq_area)\n",
    "class Triangle:\n",
    "    def __init__(self, side_1, side_2, side_3):\n",
    "        if (side_1 + side_2 > side_3 and side_1 + side_3 > side_2 and side_2 + side_3 > side_1):\n",
    "            self.side_1 = side_1\n",
    "            self.side_2 = side_2\n",
    "            self.side_3 = side_3\n",
    "        else:\n",
    "            print(\"The sizes are incorrect, sides have not been initialized\")\n",
    "    def area(self):\n",
    "        s = (self.side_1 + self.side_2 + self.side_3) / 2\n",
    "        tr_area = (s * (s - self.side_1) * (s - self.side_2) * (s - self.side_3)) ** (1/2)\n",
    "        return (tr_area)\n",
    "import math\n",
    "class Circle:\n",
    "    #I guess the question is not complete???? I added the r so I can calculate the area\n",
    "    def __init__(self, r):\n",
    "        self.r = r\n",
    "    def area(self):\n",
    "        c_area = math.pi * (self.r ** 2)\n",
    "        return(c_area)"
   ]
  },
  {
   "cell_type": "code",
   "execution_count": 79,
   "id": "e8a40276",
   "metadata": {},
   "outputs": [
    {
     "name": "stdout",
     "output_type": "stream",
     "text": [
      "Area of rectangle: 10\n",
      "Area of square: 16\n",
      "Area of triangle: 1.984313483298443\n",
      "Area of circle: 12.566370614359172\n"
     ]
    }
   ],
   "source": [
    "rectangle = Rectangle(2,5)\n",
    "square = Square(4)\n",
    "triangle = Triangle(2,2,3)\n",
    "circle = Circle(2)\n",
    "\n",
    "print(\"Area of rectangle: \" + str(rectangle.area()))\n",
    "print(\"Area of square: \" + str(square.area()))\n",
    "print(\"Area of triangle: \" + str(triangle.area()))\n",
    "print(\"Area of circle: \" + str(circle.area()))"
   ]
  },
  {
   "cell_type": "markdown",
   "id": "61c15c51",
   "metadata": {},
   "source": [
    "### 3 (10 points). Make a class $Die$ with one attribute called $sides$, that has a default value of 6. \n",
    "### a. Write a method called $roll\\_die()$ that prints (returns????) a random number between 1 and the number of sides the die has. \n",
    "### b. Make a 6-sided die and roll it 10 times with a for loop and store the results of the roll in a variable named $roll\\_results$ (this will be a list). \n",
    "### c. Make a 10-sided die and a 20-sided die. Roll each die 10 times, and store in variables $roll\\_results\\_10$ and $roll\\_results\\_20$ respectively."
   ]
  },
  {
   "cell_type": "markdown",
   "id": "0af11f55",
   "metadata": {},
   "source": [
    "# a"
   ]
  },
  {
   "cell_type": "code",
   "execution_count": 83,
   "id": "87bfe5ed",
   "metadata": {},
   "outputs": [],
   "source": [
    "import numpy as np\n",
    "class Die:\n",
    "    def __init__(self, sides = 6):\n",
    "        self.sides = sides\n",
    "    def roll_die(self):\n",
    "        outcome = np.random.randint(1, self.sides + 1)\n",
    "        print(outcome) ##returns?\n",
    "        return (outcome)"
   ]
  },
  {
   "cell_type": "markdown",
   "id": "85b38b4c",
   "metadata": {},
   "source": [
    "# b"
   ]
  },
  {
   "cell_type": "code",
   "execution_count": 128,
   "id": "34d0f514",
   "metadata": {},
   "outputs": [
    {
     "name": "stdout",
     "output_type": "stream",
     "text": [
      "4\n",
      "5\n",
      "3\n",
      "5\n",
      "1\n",
      "2\n",
      "1\n",
      "6\n",
      "5\n",
      "3\n"
     ]
    }
   ],
   "source": [
    "def loop(my_list, my_die):\n",
    "    for i in range(10):\n",
    "        my_list.append(my_die.roll_die())\n",
    "die_6 = Die()\n",
    "roll_results = []\n",
    "loop(roll_results, die_6)"
   ]
  },
  {
   "cell_type": "markdown",
   "id": "6b7a8475",
   "metadata": {},
   "source": [
    "# c"
   ]
  },
  {
   "cell_type": "code",
   "execution_count": 140,
   "id": "bd6aabf2",
   "metadata": {},
   "outputs": [
    {
     "name": "stdout",
     "output_type": "stream",
     "text": [
      "6\n",
      "10\n",
      "5\n",
      "1\n",
      "1\n",
      "7\n",
      "8\n",
      "6\n",
      "5\n",
      "7\n",
      "10\n",
      "13\n",
      "1\n",
      "11\n",
      "12\n",
      "12\n",
      "13\n",
      "13\n",
      "19\n",
      "10\n",
      "Results\n",
      "[4, 5, 3, 5, 1, 2, 1, 6, 5, 3] [6, 10, 5, 1, 1, 7, 8, 6, 5, 7] [10, 13, 1, 11, 12, 12, 13, 13, 19, 10]\n"
     ]
    }
   ],
   "source": [
    "die_10 = Die(10)\n",
    "die_20 = Die(20)\n",
    "\n",
    "roll_results_10 = []\n",
    "roll_results_20 = []\n",
    "\n",
    "loop(roll_results_10, die_10)\n",
    "loop(roll_results_20, die_20)\n",
    "\n",
    "print(\"Results\")\n",
    "print(roll_results, roll_results_10, roll_results_20)"
   ]
  },
  {
   "cell_type": "markdown",
   "id": "9222ac61",
   "metadata": {},
   "source": [
    "### 4 (15 points). a. Make a class called $User$. Create two attributes called $first\\_name$ and $last\\_name$, and then create several other attributes that are typically stored in a user profile. Make a method called $describe\\_user()$ that prints a summary of the user’s information. Make another method called $greet\\_user()$ that prints a personalized greeting to the user.\n",
    "\n",
    "### b. Login Attempts: Add an attribute called login_attempts to your User class. Write a method called $increment\\_login\\_attempts()$ that increments the value of login_attempts by 1. Write another method called $reset\\_login\\_attempts()$ that resets the value of login_attempts to 0.\n",
    "\n",
    "### c. Make an instance of the User class and call increment_login_attempts() several times. Print the value of $login\\_attempts$ to make sure it was incremented properly, and then call $reset\\_login\\_attempts()$. Print $login\\_attempts$ again to make sure it was reset to 0.\n",
    "\n",
    "\n",
    "### You can do all parts on the same class, no need to copy paste the class for each point.\n"
   ]
  },
  {
   "cell_type": "code",
   "execution_count": 141,
   "id": "7e2f0584",
   "metadata": {},
   "outputs": [],
   "source": [
    "class User:\n",
    "    def __init__(self, first_name, last_name, age, country):\n",
    "        self.first_name = first_name\n",
    "        self.last_name = last_name\n",
    "        self.age = age\n",
    "        self.country = country\n",
    "        self.login_attempts = 0\n",
    "    def describe_user(self):\n",
    "        print(\"\\n First name: {} \\n Last name: {} \\n Age: {} \\n Country: {}\".format(self.first_name, self.last_name,\n",
    "                                                                                   self.age, self.country))\n",
    "    def greet_user(self):\n",
    "        print(\"Hello {} {}. {} is a beautiful country!\".format(self.first_name, self.last_name, self.country))\n",
    "    def increment_login_attempts(self):\n",
    "        self.login_attempts += 1\n",
    "    def reset_login_attempts(self):\n",
    "        self.login_attempts = 0"
   ]
  },
  {
   "cell_type": "code",
   "execution_count": 142,
   "id": "5b016f83",
   "metadata": {},
   "outputs": [
    {
     "name": "stdout",
     "output_type": "stream",
     "text": [
      "N of users login attempts is: 10\n",
      "N of users login attempts after reset is: 0\n"
     ]
    }
   ],
   "source": [
    "user_1 = User(\"Armen\", \"Mkrtumyan\", 21, \"Armenia\")\n",
    "for i in range(10):\n",
    "    user_1.increment_login_attempts()\n",
    "print(\"N of users login attempts is: \" + str(user_1.login_attempts))\n",
    "user_1.reset_login_attempts()\n",
    "print(\"N of users login attempts after reset is: \" + str(user_1.login_attempts))"
   ]
  },
  {
   "cell_type": "code",
   "execution_count": 143,
   "id": "951b18e6",
   "metadata": {},
   "outputs": [
    {
     "name": "stdout",
     "output_type": "stream",
     "text": [
      "\n",
      " First name: Armen \n",
      " Last name: Mkrtumyan \n",
      " Age: 21 \n",
      " Country: Armenia\n"
     ]
    }
   ],
   "source": [
    "user_1.describe_user()"
   ]
  },
  {
   "cell_type": "code",
   "execution_count": 144,
   "id": "5f217212",
   "metadata": {},
   "outputs": [
    {
     "name": "stdout",
     "output_type": "stream",
     "text": [
      "Hello Armen Mkrtumyan. Armenia is a beautiful country!\n"
     ]
    }
   ],
   "source": [
    "user_1.greet_user()"
   ]
  },
  {
   "cell_type": "markdown",
   "id": "3a48c127",
   "metadata": {},
   "source": [
    "### 5 (10 points). Write a class called $Item$ that represents an item for sale. It should have the following:\n",
    "* ### Attributes representing the $name$ and price of the item\n",
    "* ### A constructor that sets those fields,\n",
    "* ### A $__str__()$ method that returns a string containing the item name and price, with the price formatted to exactly 2 decimal places\n",
    "### Test the class by creating a new item object and printing it out."
   ]
  },
  {
   "cell_type": "code",
   "execution_count": 151,
   "id": "c7a7f86a",
   "metadata": {},
   "outputs": [],
   "source": [
    "import math\n",
    "class Item:\n",
    "    def __init__(self, name, price):\n",
    "        self.name = name\n",
    "        self.price = price\n",
    "    def set_name(self, name):\n",
    "        self.name = name\n",
    "    def set_price(self, price):\n",
    "        self.price = price\n",
    "    def __str__(self):\n",
    "        return(str(self.name) + \" \" + str(round(self.price, 2)))"
   ]
  },
  {
   "cell_type": "code",
   "execution_count": 154,
   "id": "7a384172",
   "metadata": {},
   "outputs": [
    {
     "name": "stdout",
     "output_type": "stream",
     "text": [
      "icecream 12.24\n",
      "Chewing gum 200\n"
     ]
    }
   ],
   "source": [
    "item_1 = Item(\"icecream\", 12.2355678)\n",
    "print(item_1)\n",
    "item_1.set_name(\"Chewing gum\")\n",
    "item_1.set_price(200)\n",
    "print(item_1)"
   ]
  },
  {
   "cell_type": "markdown",
   "id": "e593baa7",
   "metadata": {},
   "source": [
    "### 6 (15 points). Write a class called $ShoppingCart$ that might be used in an online store. It should have the following:\n",
    "* ### A constructor that creates an empty list of items (Item objects) (the constructor should take no arguments except self)\n",
    "* ### A method called $add()$ that takes a name and a price and adds an Item object with that name and price to the shopping cart.\n",
    "* ### A method called $total()$ that takes no arguments and returns the total cost of the items in the cart.\n",
    "* ### A method called $remove_items()$ that takes an item name (a string) and removes any Item objects with that name from the shopping cart. It shouldn’t return anything.\n",
    "* ### A $__str__()$ method that returns a string containing info on all the items in the shopping cart.\n",
    "\n",
    "### Then test out the shopping cart as follows: (1) create a shopping cart; (2) add several items to it; (3) print the cart’s total cost (using the total() method); (4) remove one of the items types; (5) print out the cart."
   ]
  },
  {
   "cell_type": "code",
   "execution_count": 172,
   "id": "88052a85",
   "metadata": {},
   "outputs": [],
   "source": [
    "class ShoppingCart:\n",
    "    def __init__(self):\n",
    "        self.list_of_items = []\n",
    "    def add(self, name, price):\n",
    "        self.list_of_items.append(Item(name, price))\n",
    "    def total(self):\n",
    "        summ = 0\n",
    "        for i in self.list_of_items:\n",
    "            summ += i.price\n",
    "        return (summ)\n",
    "    def removeitems(self, item_name):\n",
    "        for i in self.list_of_items:\n",
    "            if(i.name == item_name):\n",
    "                self.list_of_items.remove(i)\n",
    "    def __str__(self):\n",
    "        my_list = \"\"\n",
    "        for i in self.list_of_items:\n",
    "            my_list += (\"\\n Item: \" + i.name + \"| Price: \" + str(i.price) + \"\\n\")\n",
    "        return(my_list)"
   ]
  },
  {
   "cell_type": "code",
   "execution_count": 174,
   "id": "6bf347a4",
   "metadata": {},
   "outputs": [
    {
     "name": "stdout",
     "output_type": "stream",
     "text": [
      "\n",
      " Item: apple| Price: 200\n",
      "\n",
      " Item: cherry| Price: 500\n",
      "\n",
      " Item: watermelon| Price: 2000\n",
      "\n"
     ]
    }
   ],
   "source": [
    "shopping_cart_1 = ShoppingCart()\n",
    "shopping_cart_1.add(\"apple\", 200)\n",
    "shopping_cart_1.add(\"cherry\", 500)\n",
    "shopping_cart_1.add(\"pear\", 1000)\n",
    "shopping_cart_1.add(\"watermelon\", 2000)\n",
    "shopping_cart_1.total()\n",
    "shopping_cart_1.removeitems(\"pear\")\n",
    "print(shopping_cart_1)"
   ]
  },
  {
   "cell_type": "markdown",
   "id": "67f4eae0",
   "metadata": {},
   "source": [
    "### 7 (15 points). Write a class called $Ticket$ that has the following:\n",
    "* ### A field/attribute $cost$ for the price of the ticket and a string field/attribute $time$ for the start time of the event (assume times are in 24-hour format, like '18:35')\n",
    "* ### A constructor that sets those variables\n",
    "* ### A $__str__()$ method that returns a string of the form Ticket(\\<cost\\>, \\<time\\>), where \\<cost\\> and \\<time\\> are replaced with the values of the cost and time fields.\n",
    "* ### A method called $is\\_evening\\_time()$ that returns True or False, depending on whether the time falls in the range from 18:00 to 23:59.\n",
    "* ### A method called $bulk\\_discount()$ that takes an integer n and returns the discount for buying n tickets. There should be a 10% discount for buying 5 to 9 tickets, and a 20% discount for buying 10 or more. Otherwise, there is no discount. Return these percentages as integers.\n",
    "    \n",
    "### Test the class by creating a Ticket item, printing it, calling the $is\\_evening\\_time()$ method, and calling the $bulk\\_discount()$ method."
   ]
  },
  {
   "cell_type": "code",
   "execution_count": 176,
   "id": "8b0acbee",
   "metadata": {},
   "outputs": [],
   "source": [
    "class Ticket:\n",
    "    def __init__(self, cost, time):\n",
    "        self.cost = cost\n",
    "        self.time = time\n",
    "    def __str__(self):\n",
    "        return (\"Ticket({}, {})\".format(self.cost, self.time))\n",
    "    def is_evening_time(self):\n",
    "        return (int(self.time[:2]) >= 18 and int(self.time[:2]) <= 23)\n",
    "    def bulk_discount(self, n):\n",
    "        if (n >=5 and n <= 9):\n",
    "            return (10)\n",
    "        if (n >= 10):\n",
    "            return (20)"
   ]
  },
  {
   "cell_type": "code",
   "execution_count": 191,
   "id": "934c965e",
   "metadata": {},
   "outputs": [
    {
     "name": "stdout",
     "output_type": "stream",
     "text": [
      "Ticket(240, 21:00)\n",
      "Is evening time? : True\n",
      "The discount for this many tickets is: 20 percent\n"
     ]
    }
   ],
   "source": [
    "ticket_1 = Ticket(240, \"21:00\")\n",
    "print(ticket_1)\n",
    "print(\"Is evening time? : \" + str(ticket_1.is_evening_time()))\n",
    "print(\"The discount for this many tickets is: \" + str(ticket_1.bulk_discount(10)) + \" percent\")\n"
   ]
  },
  {
   "cell_type": "markdown",
   "id": "c4a98471",
   "metadata": {},
   "source": [
    "### 8 (15 points). Write a class called $MovieTicket$ that inherits from the $Ticket$ class of the previous problem. It should have the following (in addition to all that it gets from the $Ticket$ class):\n",
    "* ### A string field called movie_name\n",
    "* ### A constructor that sets movie_name as well as cost and time\n",
    "* ### Override the $__str__()$ method so that it returns a string of the form MovieTicket(\\<cost\\>, \\<time\\>, \\<name\\> where \\<cost\\>, \\<time\\>, and \\<name\\> are replaced with the values of the class’s fields.\n",
    "* ### A method called $afternoon\\_discount()$ that returns a discount of 10 (standing for 10%) if the ticket time falls in the range from 12:00 to 17:59 and 0 otherwise.\n",
    "* ### Test the class by creating a $MovieTicket$ item, printing it, and calling the $afternoon\\_discount()$ and $is\\_evening\\_time()$ methods.\n"
   ]
  },
  {
   "cell_type": "code",
   "execution_count": 192,
   "id": "8cef3fd7",
   "metadata": {},
   "outputs": [],
   "source": [
    "class MovieTicket(Ticket):\n",
    "    def __init__(self, cost, time, movie_name):\n",
    "        super().__init__(cost, time)\n",
    "        self.movie_name = movie_name\n",
    "    def set_name(self, cost):\n",
    "        self.cost = cost\n",
    "    def set_time(self, time):\n",
    "        self.time = time\n",
    "    def set_movie_name(self, movie_name):\n",
    "        self.movie_name = movie_name\n",
    "    def __str__(self):\n",
    "        return (\"MovieTicket({}, {}, {})\".format(self.cost, self.time, self.movie_name))\n",
    "    def afternoon_discount(self):\n",
    "        if (int(self.time[:2]) >= 12 and int(self.time[:2]) <= 17):\n",
    "            return (10)\n",
    "        return (0)"
   ]
  },
  {
   "cell_type": "code",
   "execution_count": 196,
   "id": "97912eb5",
   "metadata": {},
   "outputs": [
    {
     "name": "stdout",
     "output_type": "stream",
     "text": [
      "MovieTicket(240, 20:27, The good, the bad and the ugly)\n",
      "The discount is: 0\n",
      "Is evening time? : True\n"
     ]
    }
   ],
   "source": [
    "move_ticket_1 = MovieTicket(240, \"20:27\", \"The good, the bad and the ugly\")\n",
    "print(move_ticket_1)\n",
    "print(\"The discount is: \" + str(move_ticket_1.afternoon_discount()))\n",
    "print(\"Is evening time? : \" + str(move_ticket_1.is_evening_time()))"
   ]
  }
 ],
 "metadata": {
  "kernelspec": {
   "display_name": "Python 3 (ipykernel)",
   "language": "python",
   "name": "python3"
  },
  "language_info": {
   "codemirror_mode": {
    "name": "ipython",
    "version": 3
   },
   "file_extension": ".py",
   "mimetype": "text/x-python",
   "name": "python",
   "nbconvert_exporter": "python",
   "pygments_lexer": "ipython3",
   "version": "3.9.6"
  }
 },
 "nbformat": 4,
 "nbformat_minor": 5
}
